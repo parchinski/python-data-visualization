{
 "cells": [
  {
   "cell_type": "markdown",
   "id": "edd29af9-8114-42d1-86ff-437f1655a1c4",
   "metadata": {},
   "source": [
    "# Assignment 1: Bryant Parchinski"
   ]
  },
  {
   "cell_type": "markdown",
   "id": "fbde111e-390b-4b41-8158-90086b782dd4",
   "metadata": {},
   "source": [
    "## Code Cell Practices From Lesson"
   ]
  },
  {
   "cell_type": "code",
   "execution_count": 3,
   "id": "905d8c8c-a2d1-4b85-8dbc-0aa7fc7143f9",
   "metadata": {},
   "outputs": [
    {
     "name": "stdout",
     "output_type": "stream",
     "text": [
      "5 5.2 True A String \n",
      "A \n",
      "multi-line\n",
      "String\n",
      "\n"
     ]
    }
   ],
   "source": [
    "A = 5\n",
    "B = 5.2\n",
    "C = \"True\"\n",
    "D = \"A String\"\n",
    "E = '''\n",
    "A \n",
    "multi-line\n",
    "String\n",
    "'''\n",
    "print (A, B, C, D, E)"
   ]
  },
  {
   "cell_type": "code",
   "execution_count": 5,
   "id": "755a10d6-296e-4faf-bcfb-480979bf2d8d",
   "metadata": {},
   "outputs": [
    {
     "name": "stdout",
     "output_type": "stream",
     "text": [
      "type of variable x: <class 'int'>\n",
      "x =  5\n",
      "type of variable x: <class 'str'>\n",
      "x =  ISC 4551: Data Graphics and Visualization\n",
      "type of variable x: <class 'float'>\n",
      "x =  5.2\n"
     ]
    }
   ],
   "source": [
    "x = 5\n",
    "print (\"type of variable x:\", type(x))\n",
    "print(\"x = \",x)\n",
    "\n",
    "x = \"ISC 4551: Data Graphics and Visualization\"\n",
    "print(\"type of variable x:\", type(x))\n",
    "print(\"x = \",x)\n",
    "\n",
    "x = 5.2\n",
    "print(\"type of variable x:\", type(x))\n",
    "print(\"x = \",x)"
   ]
  },
  {
   "cell_type": "code",
   "execution_count": 8,
   "id": "0cd3ec5f-d294-4a20-8bf6-7b91ad81c5d0",
   "metadata": {},
   "outputs": [
    {
     "ename": "TypeError",
     "evalue": "can't multiply sequence by non-int of type 'float'",
     "output_type": "error",
     "traceback": [
      "\u001b[0;31m---------------------------------------------------------------------------\u001b[0m",
      "\u001b[0;31mTypeError\u001b[0m                                 Traceback (most recent call last)",
      "Cell \u001b[0;32mIn[8], line 3\u001b[0m\n\u001b[1;32m      1\u001b[0m a \u001b[38;5;241m=\u001b[39m \u001b[38;5;241m5.2\u001b[39m\n\u001b[1;32m      2\u001b[0m x \u001b[38;5;241m=\u001b[39m \u001b[38;5;124m\"\u001b[39m\u001b[38;5;124mA String \u001b[39m\u001b[38;5;124m\"\u001b[39m\n\u001b[0;32m----> 3\u001b[0m \u001b[38;5;28mprint\u001b[39m(\u001b[43ma\u001b[49m\u001b[43m \u001b[49m\u001b[38;5;241;43m*\u001b[39;49m\u001b[43m \u001b[49m\u001b[43mx\u001b[49m)\n",
      "\u001b[0;31mTypeError\u001b[0m: can't multiply sequence by non-int of type 'float'"
     ]
    }
   ],
   "source": [
    "a = 5.2\n",
    "x = \"A String \"\n",
    "print(a * x) # Can't multiply unlike type"
   ]
  },
  {
   "cell_type": "code",
   "execution_count": 7,
   "id": "99e0a8ac-560a-45db-930e-edb773e7389a",
   "metadata": {},
   "outputs": [
    {
     "name": "stdout",
     "output_type": "stream",
     "text": [
      "University Of Centrl Florida Orlando\n"
     ]
    }
   ],
   "source": [
    "print(\"University Of Centrl Florida \"+\"Orlando\") # Conctenation"
   ]
  },
  {
   "cell_type": "code",
   "execution_count": 11,
   "id": "8c88ba1d-7de0-4b3a-8e8b-3aeb16cf889b",
   "metadata": {},
   "outputs": [
    {
     "name": "stdout",
     "output_type": "stream",
     "text": [
      "Value of b*y: 20\n"
     ]
    }
   ],
   "source": [
    "b = 5\n",
    "y = 4\n",
    "z = f'Value of b*y: {b*y}'\n",
    "print (z)"
   ]
  },
  {
   "cell_type": "code",
   "execution_count": 12,
   "id": "751567fe-8ea2-4985-b13a-76f9f6d28b48",
   "metadata": {},
   "outputs": [
    {
     "name": "stdout",
     "output_type": "stream",
     "text": [
      "The course name:\tISC 4551\n",
      "The course name:\\tISC 4551\n"
     ]
    }
   ],
   "source": [
    "z = 'The course name:\\tISC 4551'\n",
    "print(z)\n",
    "z = r'The course name:\\tISC 4551'\n",
    "print(z)"
   ]
  },
  {
   "cell_type": "code",
   "execution_count": 13,
   "id": "be18d2c4-c5c9-47ea-a421-9f3377c53929",
   "metadata": {},
   "outputs": [
    {
     "name": "stdout",
     "output_type": "stream",
     "text": [
      "True\n",
      "False\n"
     ]
    }
   ],
   "source": [
    "a = True\n",
    "print(a)\n",
    "b = False\n",
    "print(b)"
   ]
  },
  {
   "cell_type": "code",
   "execution_count": 14,
   "id": "7d0ce215-885f-46a4-ae96-2d36a9900623",
   "metadata": {},
   "outputs": [
    {
     "name": "stdout",
     "output_type": "stream",
     "text": [
      "100.2\n"
     ]
    }
   ],
   "source": [
    "print(True*100.2)"
   ]
  },
  {
   "cell_type": "code",
   "execution_count": 15,
   "id": "6465061e-6292-4f02-b0fd-5f9cb89be30b",
   "metadata": {},
   "outputs": [
    {
     "name": "stdout",
     "output_type": "stream",
     "text": [
      "0.0\n"
     ]
    }
   ],
   "source": [
    "print(False*100.2)"
   ]
  },
  {
   "cell_type": "code",
   "execution_count": 16,
   "id": "96577374-d84f-4992-bbcb-f62d35a41e30",
   "metadata": {},
   "outputs": [
    {
     "name": "stdout",
     "output_type": "stream",
     "text": [
      "String\n"
     ]
    }
   ],
   "source": [
    "print(True*\"String\")"
   ]
  },
  {
   "cell_type": "code",
   "execution_count": 18,
   "id": "c6a8fed1-63c0-453e-875a-2c6a24ebaaa0",
   "metadata": {},
   "outputs": [
    {
     "name": "stdout",
     "output_type": "stream",
     "text": [
      "\n"
     ]
    }
   ],
   "source": [
    "print(False*\"String\")"
   ]
  },
  {
   "cell_type": "code",
   "execution_count": 19,
   "id": "4cfcfff5-cce7-4925-af0b-e8106e73a43a",
   "metadata": {},
   "outputs": [
    {
     "name": "stdout",
     "output_type": "stream",
     "text": [
      "\n",
      "a = True\n",
      "print(a)\n",
      "b = False\n",
      "print(b)\n",
      "\n"
     ]
    }
   ],
   "source": [
    "# A comment\n",
    "# There is no multiline comment in Python\n",
    "# But Triple quotes may be used for multi-line comments.\n",
    "\n",
    "s = \"\"\"\n",
    "a = True\n",
    "print(a)\n",
    "b = False\n",
    "print(b)\n",
    "\"\"\"\n",
    "print (s)"
   ]
  },
  {
   "cell_type": "code",
   "execution_count": 20,
   "id": "fe8139e3-2ee1-464b-8ca0-5cc348a8a484",
   "metadata": {},
   "outputs": [
    {
     "name": "stdout",
     "output_type": "stream",
     "text": [
      "5 <class 'int'>\n",
      "5 <class 'int'>\n",
      "5.0 <class 'float'>\n",
      "5.2 <class 'float'>\n",
      "False <class 'bool'>\n",
      "True <class 'bool'>\n",
      "True <class 'bool'>\n",
      "False <class 'bool'>\n"
     ]
    }
   ],
   "source": [
    "a = int(5.2)\n",
    "print(a, type(a))\n",
    "a = int(\"5\")\n",
    "print(a, type(a))\n",
    "a = float(5)\n",
    "print(a, type(a))\n",
    "a = float(\"5.2\")\n",
    "print(a, type(a))\n",
    "a = bool(0)\n",
    "print(a, type(a))\n",
    "a = bool(5.2)\n",
    "print(a, type(a))\n",
    "a = bool(\"A string\")\n",
    "print(a, type(a))\n",
    "a = bool(\"\")\n",
    "print(a, type(a))"
   ]
  },
  {
   "cell_type": "code",
   "execution_count": 21,
   "id": "ccf04323-8ee3-479b-8891-39f1c835c352",
   "metadata": {},
   "outputs": [
    {
     "name": "stdout",
     "output_type": "stream",
     "text": [
      "Jack\n",
      "['Jack', 'Jill']\n",
      "2\n",
      "['Jack', 'John']\n",
      "0\n"
     ]
    }
   ],
   "source": [
    "names = ['Jack', 'Jill']\n",
    "print(names[0])\n",
    "\n",
    "print (names)\n",
    "\n",
    "print(len(names))\n",
    "\n",
    "names[1] = \"John\"\n",
    "print(names)\n",
    "\n",
    "emptyList = [] #or list()\n",
    "print(len(emptyList))"
   ]
  },
  {
   "cell_type": "code",
   "execution_count": 22,
   "id": "49fa1f93-e412-45c4-8224-3f2832283114",
   "metadata": {},
   "outputs": [
    {
     "name": "stdout",
     "output_type": "stream",
     "text": [
      "['Jack', 'Jill', 'Rick'] 3\n",
      "['Jack', 'Jill', 'Rick', 'Kevin', 'Adrian'] 5\n"
     ]
    }
   ],
   "source": [
    "names = ['Jack', 'Jill']\n",
    "names.append('Rick')\n",
    "\n",
    "print (names, len(names))\n",
    "\n",
    "names.extend(['Kevin', 'Adrian'])\n",
    "print (names, len(names))"
   ]
  },
  {
   "cell_type": "code",
   "execution_count": 23,
   "id": "cce1902b-a0bc-49f5-9e1c-b05c621c9fb4",
   "metadata": {},
   "outputs": [
    {
     "name": "stdout",
     "output_type": "stream",
     "text": [
      "['Jack', 'Jill', 'Kevin', 'Adrian'] 4\n"
     ]
    }
   ],
   "source": [
    "eNames = ['Jack', 'Jill'] + ['Kevin', 'Adrian']\n",
    "print(eNames, len(eNames))"
   ]
  },
  {
   "cell_type": "code",
   "execution_count": 32,
   "id": "8049a66c-04e1-4215-a496-c7beb63a5958",
   "metadata": {},
   "outputs": [
    {
     "name": "stdout",
     "output_type": "stream",
     "text": [
      "(2.0, 5.0, 1.0)\n",
      "2.0 5.0\n",
      "3\n"
     ]
    }
   ],
   "source": [
    "coordinates = (2., 5., 1.)     # Note the parenthesis or round brackets.\n",
    "print(coordinates)\n",
    "print(coordinates[0], coordinates[1])\n",
    "print(len(coordinates))"
   ]
  },
  {
   "cell_type": "code",
   "execution_count": 33,
   "id": "91ec1c96-40f2-4e16-bce3-f9fd000c26c0",
   "metadata": {},
   "outputs": [
    {
     "ename": "TypeError",
     "evalue": "'tuple' object does not support item assignment",
     "output_type": "error",
     "traceback": [
      "\u001b[0;31m---------------------------------------------------------------------------\u001b[0m",
      "\u001b[0;31mTypeError\u001b[0m                                 Traceback (most recent call last)",
      "Cell \u001b[0;32mIn[33], line 1\u001b[0m\n\u001b[0;32m----> 1\u001b[0m \u001b[43mcoordinates\u001b[49m\u001b[43m[\u001b[49m\u001b[38;5;241;43m0\u001b[39;49m\u001b[43m]\u001b[49m \u001b[38;5;241m=\u001b[39m \u001b[38;5;241m3\u001b[39m \u001b[38;5;66;03m# the above statement would not work as tuples are immutable\u001b[39;00m\n",
      "\u001b[0;31mTypeError\u001b[0m: 'tuple' object does not support item assignment"
     ]
    }
   ],
   "source": [
    "coordinates[0] = 3 # the above statement would not work as tuples are immutable"
   ]
  },
  {
   "cell_type": "code",
   "execution_count": 25,
   "id": "7e1a8c4d-7281-41bf-9463-bf2d19d4e049",
   "metadata": {},
   "outputs": [
    {
     "name": "stdout",
     "output_type": "stream",
     "text": [
      "() 0\n",
      "(1.5,)\n"
     ]
    }
   ],
   "source": [
    "emptyTuple = () #tuple()\n",
    "print(emptyTuple, len(emptyTuple))\n",
    "oneElemTuple = (1.5, )   \n",
    "print(oneElemTuple)"
   ]
  },
  {
   "cell_type": "code",
   "execution_count": 26,
   "id": "66de9edf-ac1c-4332-9c92-49ea3e8de52a",
   "metadata": {},
   "outputs": [
    {
     "name": "stdout",
     "output_type": "stream",
     "text": [
      "1.5 <class 'float'>\n",
      "(1.5,) <class 'tuple'>\n"
     ]
    }
   ],
   "source": [
    "a = (1.5)\n",
    "print(a, type(a))\n",
    "a = (1.5,)\n",
    "print(a, type(a))"
   ]
  },
  {
   "cell_type": "code",
   "execution_count": 30,
   "id": "55890dff-a8ed-4c87-8e85-6bcaa79300bb",
   "metadata": {},
   "outputs": [
    {
     "name": "stdout",
     "output_type": "stream",
     "text": [
      "{'number': 'ISC 4551', 'name': 'Data Graphics and Visualization', 'classSize': 92}\n"
     ]
    }
   ],
   "source": [
    "course = { \n",
    "    \"number\" :  \"ISC 4551\", \n",
    "    \"name\": \"Data Graphics and Visualization\",\n",
    "    \"classSize\": 92\n",
    "}\n",
    "print (course)"
   ]
  },
  {
   "cell_type": "code",
   "execution_count": 31,
   "id": "4821d6b9-c4ac-458f-b986-9878357e1dd9",
   "metadata": {},
   "outputs": [
    {
     "name": "stdout",
     "output_type": "stream",
     "text": [
      "ISC 4551\n"
     ]
    }
   ],
   "source": [
    "print (course[\"number\"])"
   ]
  },
  {
   "cell_type": "code",
   "execution_count": 35,
   "id": "4a3238c2-501d-4cb6-bd7a-dcb3a7a60599",
   "metadata": {},
   "outputs": [
    {
     "name": "stdout",
     "output_type": "stream",
     "text": [
      "dict_keys(['number', 'name', 'classSize'])\n",
      "dict_values(['ISC 4551', 'Data Graphics and Visualization', 92])\n",
      "dict_items([('number', 'ISC 4551'), ('name', 'Data Graphics and Visualization'), ('classSize', 92)])\n"
     ]
    }
   ],
   "source": [
    "print(course.keys())\n",
    "\n",
    "print(course.values())\n",
    "\n",
    "print(course.items())"
   ]
  },
  {
   "cell_type": "code",
   "execution_count": 38,
   "id": "16d57ec1-2ea3-45c8-a76e-8db37becb117",
   "metadata": {},
   "outputs": [
    {
     "name": "stdout",
     "output_type": "stream",
     "text": [
      "{'banana', 'cherry', 'apple'}\n",
      "{'banana', 'cherry', 'apple'}\n"
     ]
    }
   ],
   "source": [
    "thisset = {\"apple\", \"banana\", \"cherry\"}\n",
    "print(thisset)\n",
    "\n",
    "# No duplicate items are allowed in a set\n",
    "thisset = {\"apple\", \"banana\", \"cherry\", \"apple\"}\n",
    "print(thisset)"
   ]
  },
  {
   "cell_type": "code",
   "execution_count": 39,
   "id": "61f08108-e81b-4e2f-9a9f-35ec491f8cc3",
   "metadata": {},
   "outputs": [
    {
     "name": "stdout",
     "output_type": "stream",
     "text": [
      "True\n",
      "False\n",
      "True\n"
     ]
    }
   ],
   "source": [
    "print(\"banana\" in thisset)\n",
    "\n",
    "print(\"pineapple\" in thisset)\n",
    "\n",
    "thisset.add(\"pineapple\")\n",
    "\n",
    "print(\"pineapple\" in thisset)\n",
    "\n",
    "# Allows union, intersection, difference and more"
   ]
  },
  {
   "cell_type": "code",
   "execution_count": 1,
   "id": "6173260c-e2ad-4a61-b90d-7f67e09b16c5",
   "metadata": {},
   "outputs": [
    {
     "name": "stdout",
     "output_type": "stream",
     "text": [
      "[1 5 3 4 5] <class 'numpy.ndarray'>\n",
      "1\n"
     ]
    }
   ],
   "source": [
    "import numpy as np\n",
    "A = [1, 5, 3, 4, 5]\n",
    "nA = np.array(A)\n",
    "print(nA, type(nA))\n",
    "print(nA[0])"
   ]
  },
  {
   "cell_type": "code",
   "execution_count": 2,
   "id": "48534484-c6a0-4e4b-852a-340a2e3fc327",
   "metadata": {},
   "outputs": [
    {
     "name": "stdout",
     "output_type": "stream",
     "text": [
      "[1, 5, 3, 4, 5, 10]\n"
     ]
    }
   ],
   "source": [
    "A.append(10)\n",
    "print(A)"
   ]
  },
  {
   "cell_type": "code",
   "execution_count": 3,
   "id": "e0b26ce5-ba80-4948-b6a7-03fca1e2dab6",
   "metadata": {},
   "outputs": [
    {
     "ename": "AttributeError",
     "evalue": "'numpy.ndarray' object has no attribute 'append'",
     "output_type": "error",
     "traceback": [
      "\u001b[0;31m---------------------------------------------------------------------------\u001b[0m",
      "\u001b[0;31mAttributeError\u001b[0m                            Traceback (most recent call last)",
      "Cell \u001b[0;32mIn[3], line 1\u001b[0m\n\u001b[0;32m----> 1\u001b[0m \u001b[43mnA\u001b[49m\u001b[38;5;241;43m.\u001b[39;49m\u001b[43mappend\u001b[49m(\u001b[38;5;241m10\u001b[39m)\n",
      "\u001b[0;31mAttributeError\u001b[0m: 'numpy.ndarray' object has no attribute 'append'"
     ]
    }
   ],
   "source": [
    "nA.append(10)"
   ]
  },
  {
   "cell_type": "code",
   "execution_count": 4,
   "id": "4d0d4d14-4ad2-4b4b-97e4-ad9a7588551b",
   "metadata": {},
   "outputs": [
    {
     "ename": "TypeError",
     "evalue": "can only concatenate list (not \"int\") to list",
     "output_type": "error",
     "traceback": [
      "\u001b[0;31m---------------------------------------------------------------------------\u001b[0m",
      "\u001b[0;31mTypeError\u001b[0m                                 Traceback (most recent call last)",
      "Cell \u001b[0;32mIn[4], line 1\u001b[0m\n\u001b[0;32m----> 1\u001b[0m \u001b[43mA\u001b[49m\u001b[38;5;241;43m+\u001b[39;49m\u001b[38;5;241;43m5\u001b[39;49m\n",
      "\u001b[0;31mTypeError\u001b[0m: can only concatenate list (not \"int\") to list"
     ]
    }
   ],
   "source": [
    "A+5"
   ]
  },
  {
   "cell_type": "code",
   "execution_count": 5,
   "id": "24aba983-aeec-4b78-8bf2-772187f44a1d",
   "metadata": {},
   "outputs": [
    {
     "name": "stdout",
     "output_type": "stream",
     "text": [
      "[ 6 10  8  9 10]\n"
     ]
    }
   ],
   "source": [
    "print(nA+5)"
   ]
  },
  {
   "cell_type": "code",
   "execution_count": 6,
   "id": "a34039e0-ee49-4b8d-a4fa-fdc8b119cb0a",
   "metadata": {},
   "outputs": [
    {
     "name": "stdout",
     "output_type": "stream",
     "text": [
      "[1 5 3 4 5]\n"
     ]
    }
   ],
   "source": [
    "print(nA)"
   ]
  },
  {
   "cell_type": "code",
   "execution_count": 7,
   "id": "189c3263-fa99-4c05-a50b-8680ce355a69",
   "metadata": {},
   "outputs": [
    {
     "name": "stdout",
     "output_type": "stream",
     "text": [
      "16\n",
      "[26 62 19  3 45]\n",
      "0.15533674732070213\n",
      "[0.52957567 0.6356082  0.16472513 0.93163973 0.69023903]\n"
     ]
    }
   ],
   "source": [
    "from numpy import random\n",
    "print(random.randint(100)) # integer random number in the range [0, 100)\n",
    "\n",
    "print(random.randint(100, size=(5))) # integer random 1D array of size 5\n",
    "\n",
    "print (random.rand())   # float random number in the range [0, 1)\n",
    "\n",
    "print(random.rand(5))   # float random array of size 5"
   ]
  },
  {
   "cell_type": "code",
   "execution_count": 8,
   "id": "b814aff3-0f35-4d76-9d35-26cc0c37a1ae",
   "metadata": {},
   "outputs": [
    {
     "name": "stdout",
     "output_type": "stream",
     "text": [
      "[1.92276485 1.18847678 0.89496288 0.46372574 0.90379901]\n",
      "[-0.83209243  0.20747224  0.45175348  0.2321233   1.06951858]\n",
      "[7 5 7 5 7]\n",
      "[3 4 5 1 2]\n"
     ]
    }
   ],
   "source": [
    "random.uniform()\n",
    "\n",
    "print(random.uniform(low=0,high=2,size=5)) # uniform distribution in [0,2)\n",
    "\n",
    "print(random.normal(loc=0,scale = 1, size = 5)) # normal distribution  loc is the mean and scale is the standard deviation\n",
    "\n",
    "print( random.choice([3, 5, 7, 9], p=[0.1, 0.3, 0.6, 0.0], size=5))\n",
    "\n",
    "print(random.permutation([1,2,3,4,5]))"
   ]
  },
  {
   "cell_type": "code",
   "execution_count": 9,
   "id": "0bfa5b1e-244a-4d85-9ad4-5755bad9403c",
   "metadata": {},
   "outputs": [],
   "source": [
    "import pandas as pd\n",
    "\n",
    "student1 = {\n",
    " \"courses\": [\"ISC 4551\", \"CAP 4720\"],\n",
    " \"grades\": [\"A\", \"B+\"]\n",
    "}\n",
    "\n",
    "df = pd.DataFrame(student1)"
   ]
  },
  {
   "cell_type": "code",
   "execution_count": 10,
   "id": "b1eb6bc8-1cf7-4e6d-9b22-507425e8ff56",
   "metadata": {},
   "outputs": [
    {
     "name": "stdout",
     "output_type": "stream",
     "text": [
      "{'courses': ['ISC 4551', 'CAP 4720'], 'grades': ['A', 'B+']}\n"
     ]
    }
   ],
   "source": [
    "print(student1)"
   ]
  },
  {
   "cell_type": "code",
   "execution_count": 11,
   "id": "3c9becbc-97ce-4f20-a7ed-500c36341c76",
   "metadata": {},
   "outputs": [
    {
     "name": "stdout",
     "output_type": "stream",
     "text": [
      "<class 'dict'> <class 'pandas.core.frame.DataFrame'>\n"
     ]
    }
   ],
   "source": [
    "print(type(student1), type(df))"
   ]
  },
  {
   "cell_type": "code",
   "execution_count": 12,
   "id": "b2a89783-a3fb-4e36-b6ba-7b1d1e6ac21a",
   "metadata": {},
   "outputs": [
    {
     "name": "stdout",
     "output_type": "stream",
     "text": [
      "    courses grades\n",
      "0  ISC 4551      A\n",
      "1  CAP 4720     B+\n"
     ]
    }
   ],
   "source": [
    "print(df)"
   ]
  },
  {
   "cell_type": "code",
   "execution_count": 13,
   "id": "7a599cd3-c255-4714-9edf-7a4720048bde",
   "metadata": {},
   "outputs": [
    {
     "name": "stdout",
     "output_type": "stream",
     "text": [
      "<class 'pandas.core.frame.DataFrame'>\n",
      "RangeIndex: 2 entries, 0 to 1\n",
      "Data columns (total 2 columns):\n",
      " #   Column   Non-Null Count  Dtype \n",
      "---  ------   --------------  ----- \n",
      " 0   courses  2 non-null      object\n",
      " 1   grades   2 non-null      object\n",
      "dtypes: object(2)\n",
      "memory usage: 164.0+ bytes\n"
     ]
    }
   ],
   "source": [
    "df.info()"
   ]
  },
  {
   "cell_type": "code",
   "execution_count": 14,
   "id": "160e1402-3028-470d-823d-88afeeb39f8d",
   "metadata": {},
   "outputs": [
    {
     "data": {
      "text/plain": [
       "Index(['courses', 'grades'], dtype='object')"
      ]
     },
     "execution_count": 14,
     "metadata": {},
     "output_type": "execute_result"
    }
   ],
   "source": [
    "df.columns"
   ]
  },
  {
   "cell_type": "code",
   "execution_count": 15,
   "id": "245e7904-98fe-4fac-81fb-1c460c08e44b",
   "metadata": {},
   "outputs": [
    {
     "data": {
      "text/plain": [
       "RangeIndex(start=0, stop=2, step=1)"
      ]
     },
     "execution_count": 15,
     "metadata": {},
     "output_type": "execute_result"
    }
   ],
   "source": [
    "df.index"
   ]
  },
  {
   "cell_type": "code",
   "execution_count": 16,
   "id": "e8138158-1ae0-4f77-966b-c5a3d7685556",
   "metadata": {},
   "outputs": [],
   "source": [
    "df.index = [\"I\",\"II\"] # Assignment labels to rows"
   ]
  },
  {
   "cell_type": "code",
   "execution_count": 17,
   "id": "9f3d2d5d-7d08-487c-82f2-52857e2b9fa3",
   "metadata": {},
   "outputs": [
    {
     "name": "stdout",
     "output_type": "stream",
     "text": [
      "     courses grades\n",
      "I   ISC 4551      A\n",
      "II  CAP 4720     B+\n"
     ]
    }
   ],
   "source": [
    "print(df)"
   ]
  },
  {
   "cell_type": "code",
   "execution_count": 18,
   "id": "f44ce344-2633-476f-857d-c1bfb29a94fb",
   "metadata": {},
   "outputs": [
    {
     "name": "stdout",
     "output_type": "stream",
     "text": [
      "I     ISC 4551\n",
      "II    CAP 4720\n",
      "Name: courses, dtype: object\n"
     ]
    }
   ],
   "source": [
    "# Column Access is similar to dictionary access using a key.\n",
    "print(df[\"courses\"])"
   ]
  },
  {
   "cell_type": "code",
   "execution_count": 19,
   "id": "dca3c546-f5bd-4616-b7b1-83b23ecf3fe8",
   "metadata": {},
   "outputs": [
    {
     "name": "stdout",
     "output_type": "stream",
     "text": [
      "I      A\n",
      "II    B+\n",
      "Name: grades, dtype: object\n"
     ]
    }
   ],
   "source": [
    "print(df[\"grades\"])"
   ]
  },
  {
   "cell_type": "code",
   "execution_count": 20,
   "id": "8df7b403-5274-4e28-8b0a-117b941327c9",
   "metadata": {},
   "outputs": [
    {
     "name": "stdout",
     "output_type": "stream",
     "text": [
      "courses    ISC 4551\n",
      "grades            A\n",
      "Name: I, dtype: object\n"
     ]
    }
   ],
   "source": [
    "# Row access\n",
    "print(df.loc[\"I\"])"
   ]
  },
  {
   "cell_type": "code",
   "execution_count": 21,
   "id": "14a3dcb4-2449-4d53-a662-179a250440e8",
   "metadata": {},
   "outputs": [
    {
     "name": "stdout",
     "output_type": "stream",
     "text": [
      "ISC 4551\n"
     ]
    }
   ],
   "source": [
    "print(df.loc[\"I\",\"courses\"])"
   ]
  },
  {
   "cell_type": "code",
   "execution_count": 22,
   "id": "b1b4e96c-19fd-4f31-ae4b-3eb34f12fe59",
   "metadata": {},
   "outputs": [
    {
     "name": "stdout",
     "output_type": "stream",
     "text": [
      "A\n"
     ]
    }
   ],
   "source": [
    "print(df.iloc[0,1])"
   ]
  },
  {
   "cell_type": "code",
   "execution_count": 23,
   "id": "6ceb92b2-fadb-4e49-9027-57b84bf9e88b",
   "metadata": {},
   "outputs": [
    {
     "name": "stdout",
     "output_type": "stream",
     "text": [
      "ISC 4551\n"
     ]
    }
   ],
   "source": [
    "print(df.iloc[0][\"courses\"])"
   ]
  },
  {
   "cell_type": "code",
   "execution_count": 24,
   "id": "cd0a5b09-9775-4886-a250-70b1f90c5738",
   "metadata": {},
   "outputs": [
    {
     "name": "stdout",
     "output_type": "stream",
     "text": [
      "courses    ISC 4551\n",
      "grades            A\n",
      "Name: I, dtype: object\n"
     ]
    }
   ],
   "source": [
    "print(df.iloc[0])"
   ]
  },
  {
   "cell_type": "code",
   "execution_count": 25,
   "id": "4c256660-a49e-4e1c-bc71-9d2ab1bf3c5f",
   "metadata": {},
   "outputs": [
    {
     "name": "stdout",
     "output_type": "stream",
     "text": [
      "    courses grades\n",
      "0  ISC 4551      A\n",
      "1  CAP 4720     B+\n"
     ]
    }
   ],
   "source": [
    "df1 = pd.DataFrame({'courses': ['ISC 4551', 'CAP 4720'], 'grades': ['A', 'B+']})\n",
    "print(df1)"
   ]
  },
  {
   "cell_type": "code",
   "execution_count": 26,
   "id": "4e92521a-6d31-461f-811c-4f62755b87ed",
   "metadata": {},
   "outputs": [
    {
     "name": "stdout",
     "output_type": "stream",
     "text": [
      "courses    ISC 4551\n",
      "grades            A\n",
      "Name: 0, dtype: object\n"
     ]
    }
   ],
   "source": [
    "print(df1.loc[0])"
   ]
  },
  {
   "cell_type": "code",
   "execution_count": 27,
   "id": "1a47a3fe-3617-4b83-8912-853dc807670e",
   "metadata": {},
   "outputs": [
    {
     "name": "stdout",
     "output_type": "stream",
     "text": [
      "courses    ISC 4551\n",
      "grades            A\n",
      "Name: 0, dtype: object\n"
     ]
    }
   ],
   "source": [
    "print(df1.iloc[0])"
   ]
  },
  {
   "cell_type": "code",
   "execution_count": 28,
   "id": "48da4603-7ef9-4cfd-9656-0f16aaeaf3d6",
   "metadata": {},
   "outputs": [
    {
     "name": "stdout",
     "output_type": "stream",
     "text": [
      "     Duration  Pulse  Maxpulse  Calories\n",
      "0          60    110       130     409.1\n",
      "1          60    117       145     479.0\n",
      "2          60    103       135     340.0\n",
      "3          45    109       175     282.4\n",
      "4          45    117       148     406.0\n",
      "..        ...    ...       ...       ...\n",
      "164        60    105       140     290.8\n",
      "165        60    110       145     300.0\n",
      "166        60    115       145     310.2\n",
      "167        75    120       150     320.4\n",
      "168        75    125       150     330.4\n",
      "\n",
      "[169 rows x 4 columns]\n"
     ]
    }
   ],
   "source": [
    "df = pd.read_csv(\"data.csv\")\n",
    "print(df)"
   ]
  },
  {
   "cell_type": "code",
   "execution_count": 29,
   "id": "d913098c-03fb-4744-93b6-3e145f3b7af6",
   "metadata": {},
   "outputs": [
    {
     "name": "stdout",
     "output_type": "stream",
     "text": [
      "   Duration  Pulse  Maxpulse  Calories\n",
      "0        60    110       130     409.1\n",
      "1        60    117       145     479.0\n",
      "2        60    103       135     340.0\n",
      "3        45    109       175     282.4\n",
      "4        45    117       148     406.0\n"
     ]
    }
   ],
   "source": [
    "print(df.head(5))"
   ]
  },
  {
   "cell_type": "code",
   "execution_count": 30,
   "id": "b33d78f3-2eb2-4447-9073-6abb10281443",
   "metadata": {},
   "outputs": [
    {
     "name": "stdout",
     "output_type": "stream",
     "text": [
      "<class 'pandas.core.frame.DataFrame'>\n",
      "RangeIndex: 169 entries, 0 to 168\n",
      "Data columns (total 4 columns):\n",
      " #   Column    Non-Null Count  Dtype  \n",
      "---  ------    --------------  -----  \n",
      " 0   Duration  169 non-null    int64  \n",
      " 1   Pulse     169 non-null    int64  \n",
      " 2   Maxpulse  169 non-null    int64  \n",
      " 3   Calories  164 non-null    float64\n",
      "dtypes: float64(1), int64(3)\n",
      "memory usage: 5.4 KB\n"
     ]
    }
   ],
   "source": [
    "df.info()"
   ]
  },
  {
   "cell_type": "code",
   "execution_count": 31,
   "id": "3bc4e921-2c22-4fbe-9b8f-cf4bd7ba928e",
   "metadata": {},
   "outputs": [
    {
     "data": {
      "text/html": [
       "<div>\n",
       "<style scoped>\n",
       "    .dataframe tbody tr th:only-of-type {\n",
       "        vertical-align: middle;\n",
       "    }\n",
       "\n",
       "    .dataframe tbody tr th {\n",
       "        vertical-align: top;\n",
       "    }\n",
       "\n",
       "    .dataframe thead th {\n",
       "        text-align: right;\n",
       "    }\n",
       "</style>\n",
       "<table border=\"1\" class=\"dataframe\">\n",
       "  <thead>\n",
       "    <tr style=\"text-align: right;\">\n",
       "      <th></th>\n",
       "      <th>Duration</th>\n",
       "      <th>Pulse</th>\n",
       "      <th>Maxpulse</th>\n",
       "      <th>Calories</th>\n",
       "    </tr>\n",
       "  </thead>\n",
       "  <tbody>\n",
       "    <tr>\n",
       "      <th>count</th>\n",
       "      <td>169.000000</td>\n",
       "      <td>169.000000</td>\n",
       "      <td>169.000000</td>\n",
       "      <td>164.000000</td>\n",
       "    </tr>\n",
       "    <tr>\n",
       "      <th>mean</th>\n",
       "      <td>63.846154</td>\n",
       "      <td>107.461538</td>\n",
       "      <td>134.047337</td>\n",
       "      <td>375.790244</td>\n",
       "    </tr>\n",
       "    <tr>\n",
       "      <th>std</th>\n",
       "      <td>42.299949</td>\n",
       "      <td>14.510259</td>\n",
       "      <td>16.450434</td>\n",
       "      <td>266.379919</td>\n",
       "    </tr>\n",
       "    <tr>\n",
       "      <th>min</th>\n",
       "      <td>15.000000</td>\n",
       "      <td>80.000000</td>\n",
       "      <td>100.000000</td>\n",
       "      <td>50.300000</td>\n",
       "    </tr>\n",
       "    <tr>\n",
       "      <th>25%</th>\n",
       "      <td>45.000000</td>\n",
       "      <td>100.000000</td>\n",
       "      <td>124.000000</td>\n",
       "      <td>250.925000</td>\n",
       "    </tr>\n",
       "    <tr>\n",
       "      <th>50%</th>\n",
       "      <td>60.000000</td>\n",
       "      <td>105.000000</td>\n",
       "      <td>131.000000</td>\n",
       "      <td>318.600000</td>\n",
       "    </tr>\n",
       "    <tr>\n",
       "      <th>75%</th>\n",
       "      <td>60.000000</td>\n",
       "      <td>111.000000</td>\n",
       "      <td>141.000000</td>\n",
       "      <td>387.600000</td>\n",
       "    </tr>\n",
       "    <tr>\n",
       "      <th>max</th>\n",
       "      <td>300.000000</td>\n",
       "      <td>159.000000</td>\n",
       "      <td>184.000000</td>\n",
       "      <td>1860.400000</td>\n",
       "    </tr>\n",
       "  </tbody>\n",
       "</table>\n",
       "</div>"
      ],
      "text/plain": [
       "         Duration       Pulse    Maxpulse     Calories\n",
       "count  169.000000  169.000000  169.000000   164.000000\n",
       "mean    63.846154  107.461538  134.047337   375.790244\n",
       "std     42.299949   14.510259   16.450434   266.379919\n",
       "min     15.000000   80.000000  100.000000    50.300000\n",
       "25%     45.000000  100.000000  124.000000   250.925000\n",
       "50%     60.000000  105.000000  131.000000   318.600000\n",
       "75%     60.000000  111.000000  141.000000   387.600000\n",
       "max    300.000000  159.000000  184.000000  1860.400000"
      ]
     },
     "execution_count": 31,
     "metadata": {},
     "output_type": "execute_result"
    }
   ],
   "source": [
    "df.describe()"
   ]
  },
  {
   "cell_type": "code",
   "execution_count": 32,
   "id": "e841a73d-44b2-4b92-8da3-049f5e4b03d1",
   "metadata": {},
   "outputs": [],
   "source": [
    "number = 0"
   ]
  },
  {
   "cell_type": "code",
   "execution_count": 33,
   "id": "31015fd3-a695-426f-b8ce-d964271232c6",
   "metadata": {},
   "outputs": [
    {
     "name": "stdout",
     "output_type": "stream",
     "text": [
      "Not a Positive number\n",
      "Zero\n"
     ]
    }
   ],
   "source": [
    "#\n",
    "# if statement\n",
    "#\n",
    "if number > 0:\n",
    "    print('Number is positive.')\n",
    "\n",
    "#\n",
    "# if...else statement\n",
    "#\n",
    "if number > 0:\n",
    "    print('Positive number')\n",
    "else:\n",
    "    print('Not a Positive number')\n",
    "\n",
    "#\n",
    "# if...elif...else statement\n",
    "#\n",
    "if number > 0:\n",
    "    print(\"Positive number\")\n",
    "elif number == 0:\n",
    "    print('Zero')\n",
    "else:\n",
    "    print('Negative number')"
   ]
  },
  {
   "cell_type": "code",
   "execution_count": 34,
   "id": "7559a5bb-4bf1-424c-be13-7efe6f2525dc",
   "metadata": {},
   "outputs": [
    {
     "name": "stdout",
     "output_type": "stream",
     "text": [
      "0\n",
      "1\n",
      "4\n",
      "9\n",
      "16\n"
     ]
    }
   ],
   "source": [
    "for i in range(5):\n",
    "    print (i*i)\n",
    "# The range() function returns a sequence of numbers, starting from 0 by default, and increments by 1 (by default), and stops before a specified number.\n",
    "# Syntax: range(start, stop, step)"
   ]
  },
  {
   "cell_type": "code",
   "execution_count": 35,
   "id": "9582a1cd-0a1c-45f2-9c79-da643b1eab9d",
   "metadata": {},
   "outputs": [
    {
     "name": "stdout",
     "output_type": "stream",
     "text": [
      "[0, 1, 4, 9, 16]\n"
     ]
    }
   ],
   "source": [
    "aList = []\n",
    "for i in range(5):\n",
    "    aList.append(i*i)\n",
    "print(aList)"
   ]
  },
  {
   "cell_type": "code",
   "execution_count": 36,
   "id": "c865e988-fcf1-4a26-b0a8-428a700c058c",
   "metadata": {},
   "outputs": [
    {
     "name": "stdout",
     "output_type": "stream",
     "text": [
      "1 10\n",
      "2 20\n",
      "3 30\n"
     ]
    }
   ],
   "source": [
    "aList = [(1,10), (2,20), (3,30)]\n",
    "for x, y in aList:\n",
    "    print(x,y)"
   ]
  },
  {
   "cell_type": "code",
   "execution_count": 37,
   "id": "cac22513-54ae-4a44-b45c-13a366c8689c",
   "metadata": {},
   "outputs": [
    {
     "data": {
      "text/plain": [
       "[0, 1, 4, 9, 16]"
      ]
     },
     "execution_count": 37,
     "metadata": {},
     "output_type": "execute_result"
    }
   ],
   "source": [
    "[i*i for i in range(5)]"
   ]
  },
  {
   "cell_type": "code",
   "execution_count": 38,
   "id": "517c8628-1874-4e36-a77e-97df7b47b01b",
   "metadata": {},
   "outputs": [
    {
     "data": {
      "text/plain": [
       "[0, 4, 16]"
      ]
     },
     "execution_count": 38,
     "metadata": {},
     "output_type": "execute_result"
    }
   ],
   "source": [
    "[i*i for i in range(5) if i % 2 == 0]"
   ]
  },
  {
   "cell_type": "code",
   "execution_count": 39,
   "id": "ce0a48ca-c035-465b-8b7d-647b59e8da63",
   "metadata": {},
   "outputs": [
    {
     "name": "stdout",
     "output_type": "stream",
     "text": [
      "0\n",
      "1\n",
      "2\n",
      "3\n",
      "4\n"
     ]
    }
   ],
   "source": [
    "i = 0\n",
    "while i < 5:\n",
    "    print (i)\n",
    "    i += 1"
   ]
  },
  {
   "cell_type": "code",
   "execution_count": 40,
   "id": "88ad4584-3094-42d4-bfc2-53d025c443d3",
   "metadata": {},
   "outputs": [
    {
     "name": "stdout",
     "output_type": "stream",
     "text": [
      "25\n"
     ]
    }
   ],
   "source": [
    "def square(num):\n",
    "    return num * num\n",
    "print(square(5))"
   ]
  },
  {
   "cell_type": "code",
   "execution_count": 41,
   "id": "7178b54c-1559-42a9-9341-0cb64bb6cae2",
   "metadata": {},
   "outputs": [
    {
     "name": "stdout",
     "output_type": "stream",
     "text": [
      "Square of 1 = 1\n",
      "Square of 2 = 4\n",
      "Square of 3 = 9\n"
     ]
    }
   ],
   "source": [
    "for i in [1,2,3]:\n",
    "    print(f'Square of {i} = {square(i)}')"
   ]
  },
  {
   "cell_type": "code",
   "execution_count": 42,
   "id": "d6fdc119-03be-43a2-9eab-8fe7b7055d67",
   "metadata": {},
   "outputs": [
    {
     "name": "stdout",
     "output_type": "stream",
     "text": [
      "15\n"
     ]
    }
   ],
   "source": [
    "x = lambda a : a + 10\n",
    "print(x(5))"
   ]
  },
  {
   "cell_type": "code",
   "execution_count": 43,
   "id": "b2ed52c9-7a05-4dcd-b9e0-e8ea549b8b5b",
   "metadata": {},
   "outputs": [
    {
     "name": "stdout",
     "output_type": "stream",
     "text": [
      "13\n"
     ]
    }
   ],
   "source": [
    "x = lambda a, b, c : a + b + c\n",
    "print(x(5, 6, 2))"
   ]
  }
 ],
 "metadata": {
  "kernelspec": {
   "display_name": "Python 3 (ipykernel)",
   "language": "python",
   "name": "python3"
  },
  "language_info": {
   "codemirror_mode": {
    "name": "ipython",
    "version": 3
   },
   "file_extension": ".py",
   "mimetype": "text/x-python",
   "name": "python",
   "nbconvert_exporter": "python",
   "pygments_lexer": "ipython3",
   "version": "3.12.8"
  }
 },
 "nbformat": 4,
 "nbformat_minor": 5
}
