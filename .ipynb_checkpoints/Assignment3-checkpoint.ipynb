{
 "cells": [
  {
   "cell_type": "markdown",
   "id": "38e46fc6-b5d6-4945-be83-73bc3059ac2b",
   "metadata": {},
   "source": [
    "# Assignment 3: Bryant Parchinski"
   ]
  },
  {
   "cell_type": "markdown",
   "id": "ef1c6da6-23c8-4a2c-9b2c-7ba6dc7564f0",
   "metadata": {},
   "source": [
    "## Data Acquisition"
   ]
  },
  {
   "cell_type": "code",
   "execution_count": 3,
   "id": "6baae4a4-170c-4d62-be06-0842bc4d7ea7",
   "metadata": {},
   "outputs": [
    {
     "name": "stdout",
     "output_type": "stream",
     "text": [
      "Data Loaded:\n",
      "       Country   Sex  Year  Age group  Mean height  \\\n",
      "0  Afghanistan  Boys  1985          5   103.315204   \n",
      "1  Afghanistan  Boys  1985          6   109.235659   \n",
      "2  Afghanistan  Boys  1985          7   114.759466   \n",
      "3  Afghanistan  Boys  1985          8   120.002304   \n",
      "4  Afghanistan  Boys  1985          9   125.077305   \n",
      "\n",
      "   Mean height lower 95% uncertainty interval  \\\n",
      "0                                   92.912414   \n",
      "1                                   99.914439   \n",
      "2                                  106.310048   \n",
      "3                                  112.202520   \n",
      "4                                  117.880359   \n",
      "\n",
      "   Mean height upper 95% uncertainty interval  Mean height standard error  \n",
      "0                                  113.712811                    5.295555  \n",
      "1                                  118.282644                    4.718901  \n",
      "2                                  123.003367                    4.270250  \n",
      "3                                  127.549987                    3.924385  \n",
      "4                                  132.153791                    3.662401  \n"
     ]
    }
   ],
   "source": [
    "import pandas as pd\n",
    "\n",
    "# I changed name of data file to \"height_data.csv\"\n",
    "df = pd.read_csv(\"height_data.csv\")\n",
    "print(\"Data Loaded:\")\n",
    "print(df.head())"
   ]
  },
  {
   "cell_type": "markdown",
   "id": "00b448b6-18fb-43b2-83c8-66eebea9f82e",
   "metadata": {},
   "source": [
    "## Data Preparation"
   ]
  },
  {
   "cell_type": "code",
   "execution_count": 6,
   "id": "28731c1c-6592-4701-ad50-ca3c974f72fb",
   "metadata": {},
   "outputs": [
    {
     "name": "stdout",
     "output_type": "stream",
     "text": [
      "Filtered and Processed Adult Data:\n",
      "  Continent         Country   Sex      Height\n",
      "0      Asia     Afghanistan  Boys  168.495201\n",
      "1    Europe         Albania  Boys  174.070837\n",
      "2    Africa         Algeria  Boys  175.040211\n",
      "3   Oceania  American Samoa  Boys  177.094541\n",
      "4    Europe         Andorra  Boys  178.842628\n"
     ]
    }
   ],
   "source": [
    "import country_converter as coco\n",
    "\n",
    "# Filter first to reduce the dataset size for efficiency\n",
    "adults = df[(df[\"Age group\"] > 18) & (df[\"Year\"] == 2019)].copy()\n",
    "adults.reset_index(drop=True, inplace=True)\n",
    "\n",
    "# Build a mapping for unique country names to continents\n",
    "unique_countries = adults[\"Country\"].unique()\n",
    "mapping = dict(zip(unique_countries, coco.convert(unique_countries, to=\"continent\")))\n",
    "\n",
    "# Apply the mapping to create the 'Continent' column\n",
    "adults[\"Continent\"] = adults[\"Country\"].map(mapping)\n",
    "\n",
    "# Select only the desired columns and rename \"Mean height\" to \"Height\"\n",
    "adults = adults[[\"Continent\", \"Country\", \"Sex\", \"Mean height\"]].rename(columns={\"Mean height\": \"Height\"})\n",
    "\n",
    "print(\"Filtered and Processed Adult Data:\")\n",
    "print(adults.head())"
   ]
  },
  {
   "cell_type": "code",
   "execution_count": null,
   "id": "8bc2b23f-361a-44d1-acbe-70d2e2513024",
   "metadata": {},
   "outputs": [],
   "source": []
  }
 ],
 "metadata": {
  "kernelspec": {
   "display_name": "Python 3 (ipykernel)",
   "language": "python",
   "name": "python3"
  },
  "language_info": {
   "codemirror_mode": {
    "name": "ipython",
    "version": 3
   },
   "file_extension": ".py",
   "mimetype": "text/x-python",
   "name": "python",
   "nbconvert_exporter": "python",
   "pygments_lexer": "ipython3",
   "version": "3.12.8"
  }
 },
 "nbformat": 4,
 "nbformat_minor": 5
}
