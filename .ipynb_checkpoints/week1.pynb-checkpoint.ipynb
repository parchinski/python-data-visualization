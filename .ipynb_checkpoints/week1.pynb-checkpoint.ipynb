{
 "cells": [
  {
   "cell_type": "markdown",
   "id": "7f0767e9",
   "metadata": {},
   "source": [
    "## Getting Started with Python, Numpy and Pandas"
   ]
  },
  {
   "cell_type": "markdown",
   "id": "e252f697",
   "metadata": {},
   "source": [
    "Python is an interpretive language.  \n",
    "Python is a strongly-typed and dynamically-typed language.  \n",
    "*Strongly-typed*: Interpreter always “respects” the types of each variable.  \n",
    "*Dynamically-typed*: A variable is simply a value bound to a name."
   ]
  },
  {
   "cell_type": "markdown",
   "id": "3726157a",
   "metadata": {},
   "source": [
    "### Primitive Types\n",
    "- integer\n",
    "- float\n",
    "- bool\n",
    "- string"
   ]
  },
  {
   "cell_type": "raw",
   "id": "d1b88a83-f8c8-43c8-8ba7-c6099fb012e4",
   "metadata": {},
   "source": [
    "A = 5\n",
    "B = 5.2\n",
    "C = \"True\"\n",
    "D = \"A String\"\n",
    "E = '''\n",
    "A \n",
    "multi-line\n",
    "String\n",
    "'''\n",
    "print (A, B, C, D, E)"
   ]
  },
  {
   "cell_type": "markdown",
   "id": "18d82482",
   "metadata": {},
   "source": [
    "### Dynamically Typed"
   ]
  },
  {
   "cell_type": "raw",
   "id": "dc4e2f20-b385-45ea-8227-98e1e6cd323c",
   "metadata": {},
   "source": [
    "x = 5\n",
    "print (\"type of variable x:\",type(x))\n",
    "print(\"x = \",x)\n",
    "\n",
    "x = \"ISC 4551: Data Graphics and Visualization\"\n",
    "print(\"type of variable x:\",type(x))\n",
    "print(\"x = \",x)\n",
    "\n",
    "x = 5.2\n",
    "print(\"type of variable x:\",type(x))\n",
    "print(\"x = \",x)"
   ]
  },
  {
   "cell_type": "markdown",
   "id": "a0383491",
   "metadata": {},
   "source": [
    "### Strongly Typed"
   ]
  },
  {
   "cell_type": "raw",
   "id": "35490830-98fa-4c34-b011-ce767730d7d5",
   "metadata": {},
   "source": [
    "a = 5.2\n",
    "x = \"A String \"\n",
    "a * x"
   ]
  },
  {
   "cell_type": "markdown",
   "id": "764bd6f0",
   "metadata": {},
   "source": [
    "#### String Facts: Addition of strings"
   ]
  },
  {
   "cell_type": "raw",
   "id": "4f6dc48e-4105-4c5b-b126-e9a2de57b277",
   "metadata": {
    "vscode": {
     "languageId": "raw"
    }
   },
   "source": [
    "\"University Of Centrl Florida \"+\"Orlando\" # Conctenation"
   ]
  },
  {
   "cell_type": "raw",
   "id": "b5ac05f0-261d-408d-97a9-c6298db74ef9",
   "metadata": {},
   "source": [
    "#### String Facts: <u>Integer product of string</u>"
   ]
  },
  {
   "cell_type": "raw",
   "id": "9f066e06-b2c8-44a5-85c0-ca13e1a0843e",
   "metadata": {},
   "source": [
    "b = 5\n",
    "y = \" ALERT \"\n",
    "y*b"
   ]
  },
  {
   "cell_type": "markdown",
   "id": "c1762f31",
   "metadata": {},
   "source": [
    "#### String Facts: <u>f-string</u> (formatted string). Allows expression evaluation inside the string."
   ]
  },
  {
   "cell_type": "raw",
   "id": "60e3dc98-7825-487b-b323-e0e20cdae017",
   "metadata": {},
   "source": [
    "z = f'Value of b*y: {b*y}'\n",
    "print (z)"
   ]
  },
  {
   "cell_type": "markdown",
   "id": "1dc1b666",
   "metadata": {},
   "source": [
    "#### String Facts: <u>r-string</u> (raw string). Allows expression with escape sequences"
   ]
  },
  {
   "cell_type": "raw",
   "id": "1a26dfa7-3c15-41ab-a219-e837d1a18506",
   "metadata": {
    "vscode": {
     "languageId": "raw"
    }
   },
   "source": [
    "z = 'The course name:\\tISC 4551'\n",
    "print(z)\n",
    "z = r'The course name:\\tISC 4551'\n",
    "print(z)"
   ]
  },
  {
   "cell_type": "markdown",
   "id": "6b3b7b01",
   "metadata": {},
   "source": [
    "#### Booleans and Boolean Factos"
   ]
  },
  {
   "cell_type": "raw",
   "id": "d70264e3-d611-4e0e-bfd6-47b85edac209",
   "metadata": {},
   "source": [
    "a = True\n",
    "print(a)\n",
    "b = False\n",
    "print(b)"
   ]
  },
  {
   "cell_type": "markdown",
   "id": "eca4ba04",
   "metadata": {},
   "source": [
    "#### <u>True is 1</u> and <u>False is 0</u> in float/integer arithmetic and when multiplied with String"
   ]
  },
  {
   "cell_type": "raw",
   "id": "341944c7-2607-4bbf-b434-2cf28d7023ef",
   "metadata": {},
   "source": [
    "print(True*100.2)"
   ]
  },
  {
   "cell_type": "raw",
   "id": "0d524dda-c934-4ef4-ab89-4d0904fda608",
   "metadata": {},
   "source": [
    "print(False*100.2)"
   ]
  },
  {
   "cell_type": "raw",
   "id": "7a6afa61-6e49-4177-a7c4-ef4132c49703",
   "metadata": {},
   "source": [
    "print(True*\"String\")"
   ]
  },
  {
   "cell_type": "raw",
   "id": "0d0f9ffc-4e81-4bde-992c-9e64d6eb42cf",
   "metadata": {},
   "source": [
    "print(False*\"String\")"
   ]
  },
  {
   "cell_type": "markdown",
   "id": "e8e6e637",
   "metadata": {},
   "source": [
    "### Comments and Multiline Comments"
   ]
  },
  {
   "cell_type": "raw",
   "id": "77cc34ec-ec6c-4416-92ee-42c5182d0116",
   "metadata": {},
   "source": [
    "# A comment\n",
    "# There is no multiline comment in Python\n",
    "# But Triple quotes may be used for multi-line comments.\n",
    "\n",
    "s = \"\"\"\n",
    "a = True\n",
    "print(a)\n",
    "b = False\n",
    "print(b)\n",
    "\"\"\"\n",
    "print (s)"
   ]
  },
  {
   "cell_type": "markdown",
   "id": "32053e7c",
   "metadata": {},
   "source": [
    "### Type casting\n",
    "- int()\n",
    "- float()\n",
    "- str()\n",
    "- bool()"
   ]
  },
  {
   "cell_type": "raw",
   "id": "5e8a474d-c4d2-4106-8569-0b7bd300982c",
   "metadata": {},
   "source": [
    "a = int(5.2)\n",
    "print(a, type(a))\n",
    "a = int(\"5\")\n",
    "print(a, type(a))\n",
    "a = float(5)\n",
    "print(a, type(a))\n",
    "a = float(\"5.2\")\n",
    "print(a, type(a))\n",
    "a = bool(0)\n",
    "print(a, type(a))\n",
    "a = bool(5.2)\n",
    "print(a, type(a))\n",
    "a = bool(\"A string\")\n",
    "print(a, type(a))\n",
    "a = bool(\"\")\n",
    "print(a, type(a))"
   ]
  },
  {
   "cell_type": "markdown",
   "id": "9ba07b0a",
   "metadata": {},
   "source": [
    "## Collection Types\n",
    "- Lists\n",
    "- Tuple\n",
    "- Dictionary\n",
    "- Set"
   ]
  },
  {
   "cell_type": "markdown",
   "id": "1007a910",
   "metadata": {},
   "source": [
    "#### Lists are mutable (changeable) arrays\n",
    "Ex: names = [‘Zach’, ‘Jay’]   # note the square bracket.  \n",
    "Indexing to access of individual \n"
   ]
  },
  {
   "cell_type": "raw",
   "id": "cc5c0ea5-2239-4083-abbc-c70a5b238bd5",
   "metadata": {},
   "source": [
    "names = ['Jack', 'Jill']\n",
    "print(names[0])\n",
    "\n",
    "print (names)\n",
    "\n",
    "print(len(names))\n",
    "\n",
    "names[1] = \"John\"\n",
    "print(names)\n",
    "\n",
    "emptyList = [] #or list()\n",
    "print(len(emptyList))"
   ]
  },
  {
   "cell_type": "markdown",
   "id": "a0822a24",
   "metadata": {},
   "source": [
    "##### Extend list"
   ]
  },
  {
   "cell_type": "raw",
   "id": "8556706a-5f1c-4af0-ad1b-eb3f57a9e668",
   "metadata": {},
   "source": [
    "names = ['Jack', 'Jill']\n",
    "names.append('Rick')\n",
    "\n",
    "print (names, len(names))\n",
    "\n",
    "names.extend(['Kevin', 'Adrian'])\n",
    "print (names, len(names))"
   ]
  },
  {
   "cell_type": "raw",
   "id": "72720d9d-78a8-4873-9cb9-d35116a19351",
   "metadata": {},
   "source": [
    "eNames = ['Jack', 'Jill'] + ['Kevin', 'Adrian']\n",
    "print(eNames, len(eNames))"
   ]
  },
  {
   "cell_type": "markdown",
   "id": "0a6d9714",
   "metadata": {},
   "source": [
    "#### Tuples are an ordered collection, immutable (unchangeable) \n",
    "Element access is by indexing, like in list.\n"
   ]
  },
  {
   "cell_type": "raw",
   "id": "bfd83921-4bca-430d-93e3-7e56c335173b",
   "metadata": {},
   "source": [
    "coordinates = (2., 5., 1.)     # Note the parenthesis or round brackets.\n",
    "print(coordinates)\n",
    "print(coordinates[0], coordinates[1])\n",
    "print(len(coordinates))"
   ]
  },
  {
   "cell_type": "markdown",
   "id": "b82bd279-d741-4390-a345-7fda37ae2e17",
   "metadata": {},
   "source": [
    "##### Comma matters when creating a single element tuple"
   ]
  },
  {
   "cell_type": "raw",
   "id": "1493b1c0-9727-436a-97f9-866f54dc762b",
   "metadata": {},
   "source": [
    "emptyTuple = () #tuple()\n",
    "print(emptyTuple, len(emptyTuple))\n",
    "oneElemTuple = (1.5, )   \n",
    "print(oneElemTuple)"
   ]
  },
  {
   "cell_type": "raw",
   "id": "c2b18d20-626c-4ef9-890b-83cc299beb11",
   "metadata": {},
   "source": [
    "a = (1.5)\n",
    "print(a, type(a))\n",
    "a = (1.5,)\n",
    "print(a, type(a))"
   ]
  },
  {
   "cell_type": "markdown",
   "id": "d1456a03-d7eb-4741-b7d9-aef0101f6992",
   "metadata": {},
   "source": [
    "##### Tuple elements are immutable"
   ]
  },
  {
   "cell_type": "raw",
   "id": "4dbcc71a-4452-42f4-9c0a-e41de38bc390",
   "metadata": {},
   "source": [
    "coordinates[0] = 3"
   ]
  },
  {
   "cell_type": "markdown",
   "id": "f7c3d882",
   "metadata": {},
   "source": [
    "#### Dictionary: an unordered list with key-value pairs.\n",
    "Elements access is using key as the index."
   ]
  },
  {
   "cell_type": "raw",
   "id": "965a04d7-b0ee-4e43-9d2a-3436706824c3",
   "metadata": {
    "vscode": {
     "languageId": "raw"
    }
   },
   "source": [
    "course = { \n",
    "    \"number\" :  \"ISC 4551\", \n",
    "    \"name\": \"Data Graphics and Visualization\",\n",
    "    \"classSize\": 92\n",
    "}\n",
    "print (course)"
   ]
  },
  {
   "cell_type": "raw",
   "id": "0ba32438-eae6-43b8-8977-d341e3e08e6e",
   "metadata": {},
   "source": [
    "print (course[\"number\"])"
   ]
  },
  {
   "cell_type": "markdown",
   "id": "c05d8dba",
   "metadata": {},
   "source": [
    "##### Dictionary Methods\n",
    "- keys()\n",
    "- values()\n",
    "- items()"
   ]
  },
  {
   "cell_type": "raw",
   "id": "9ae23afa-cc78-44c6-8787-82f6ae360cd8",
   "metadata": {},
   "source": [
    "print(course.keys())\n",
    "\n",
    "print(course.values())\n",
    "\n",
    "print(course.items())"
   ]
  },
  {
   "cell_type": "markdown",
   "id": "fce9feec",
   "metadata": {},
   "source": [
    "#### Sets: An unordered, and unindexed collection."
   ]
  },
  {
   "cell_type": "raw",
   "id": "a1cb8ea3-a7fa-4a98-8ede-48946b38e899",
   "metadata": {},
   "source": [
    "thisset = {\"apple\", \"banana\", \"cherry\"}\n",
    "print(thisset)\n",
    "\n",
    "# No duplicate items: Set items are unique\n",
    "thisset = {\"apple\", \"banana\", \"cherry\", \"apple\"}\n",
    "print(thisset)"
   ]
  },
  {
   "cell_type": "markdown",
   "id": "733d0ff9",
   "metadata": {},
   "source": [
    "##### Set Membership"
   ]
  },
  {
   "cell_type": "raw",
   "id": "eeeb604c-0782-4920-9e69-a41ce23e72a5",
   "metadata": {},
   "source": [
    "print(\"banana\" in thisset)\n",
    "\n",
    "print(\"pineapple\" in thisset)\n",
    "\n",
    "thisset.add(\"pineapple\")\n",
    "\n",
    "print(\"pineapple\" in thisset)\n",
    "\n",
    "#Allows union, intersection,difference, ...\n"
   ]
  },
  {
   "cell_type": "markdown",
   "id": "41e75777",
   "metadata": {},
   "source": [
    "### Additional Collections via External Packages\n",
    "- numpy\n",
    "- pandas\n",
    "\n",
    "Note: the packages are not natively available with python. Must be installed independently prior to importing.\n",
    "    \n",
    "pip install numpy  \n",
    "pip install pandas  \n",
    "\n",
    "They must be imported into your code\n",
    "- import numpy\n",
    "- import pandas\n",
    "\n",
    "Sometimes the package names may shortened for convenience of typing\n",
    "- import numpy as np\n",
    "- import pandas as pd"
   ]
  },
  {
   "cell_type": "markdown",
   "id": "3c88ec72",
   "metadata": {},
   "source": [
    "#### numpy: a Python package used for working with arrays.\n",
    "Difference between list and numpy.array:\n",
    "- numpy.array are non-extendable\n",
    "- elements are of the same type\n",
    "- Occupies continuous memory\n",
    "- efficient"
   ]
  },
  {
   "cell_type": "raw",
   "id": "1d81e4a4-7e05-4574-97e8-63d03e09c7a0",
   "metadata": {},
   "source": [
    "import numpy as np\n",
    "A = [1, 5, 3, 4, 5]\n",
    "nA = np.array(A)\n",
    "print(nA, type(nA))\n",
    "print(nA[0])"
   ]
  },
  {
   "cell_type": "raw",
   "id": "1cdd89f0-8a6c-4b57-b3a0-cdc471f43d44",
   "metadata": {},
   "source": [
    "A.append(10)\n",
    "print(A)"
   ]
  },
  {
   "cell_type": "raw",
   "id": "b8beb373-0f8e-42a6-aef9-fbdd3151e8af",
   "metadata": {},
   "source": [
    "nA.append(10)"
   ]
  },
  {
   "cell_type": "raw",
   "id": "f13c4f8c-5df5-4f2d-8b17-7c1d933e0130",
   "metadata": {},
   "source": [
    "A+5"
   ]
  },
  {
   "cell_type": "raw",
   "id": "2defb212-c1e1-4b85-b9f7-f3262681ef41",
   "metadata": {},
   "source": [
    "print(nA+5)"
   ]
  },
  {
   "cell_type": "raw",
   "id": "53ad059b-6f21-4963-b260-c04df5a46d2f",
   "metadata": {},
   "source": [
    "print(nA)"
   ]
  },
  {
   "cell_type": "markdown",
   "id": "7a9a6f46",
   "metadata": {},
   "source": [
    "##### Numpy offers random module to work with numbers"
   ]
  },
  {
   "cell_type": "raw",
   "id": "f09c6bea-3d25-48ec-b815-9badc53c2ddc",
   "metadata": {},
   "source": [
    "from numpy import random\n",
    "print(random.randint(100)) # integer random number in the range [0, 100)\n",
    "\n",
    "print(random.randint(100, size=(5))) # integer random 1D array of size 5\n",
    "\n",
    "print (random.rand())   # float random number in the range [0, 1)\n",
    "\n",
    "print(random.rand(5))   # float random array of size 5"
   ]
  },
  {
   "cell_type": "raw",
   "id": "947deb4a-3f05-4cb1-b5e7-99e3214dc9fd",
   "metadata": {},
   "source": [
    "random.uniform()\n",
    "\n",
    "print(random.uniform(low=0,high=2,size=5)) # uniform distribution in [0,2)\n",
    "\n",
    "print(random.normal(loc=0,scale = 1, size = 5)) # normal distribution  loc is the mean and scale is the standard deviation\n",
    "\n",
    "print( random.choice([3, 5, 7, 9], p=[0.1, 0.3, 0.6, 0.0], size=5))\n",
    "\n",
    "print(random.permutation([1,2,3,4,5]))"
   ]
  },
  {
   "cell_type": "raw",
   "id": "6f87e49d-3d97-457b-8334-157760a94f61",
   "metadata": {},
   "source": []
  },
  {
   "cell_type": "markdown",
   "id": "1115da86",
   "metadata": {},
   "source": [
    "### Pandas: a Python library used for working with data sets.\n",
    "Pandas stands for Panel data (tabular data).  \n",
    "It has functions for analyzing, cleaning, exploring, and manipulating data.  \n",
    "It is used for a wide range of data analysis tasks, such as data cleaning, transformation, exploration, and more. \n",
    "\n",
    "Pandas provides data structures called DataFrame (a two-dimensional table-like data structure, like 2D array, or a table with rows and columns), and\n",
    "Series (a one-dimensional labeled array) that make it easier to work with and analyze data in Python."
   ]
  },
  {
   "cell_type": "raw",
   "id": "0b92feb9-501c-41c7-b3c1-fdbe10639d96",
   "metadata": {
    "vscode": {
     "languageId": "raw"
    }
   },
   "source": [
    "import pandas as pd\n",
    "\n",
    "student1 = {\n",
    " \"courses\": [\"ISC 4551\", \"CAP 4720\"],\n",
    " \"grades\": [\"A\", \"B+\"]\n",
    "}\n",
    "\n",
    "df = pd.DataFrame(student1)"
   ]
  },
  {
   "cell_type": "raw",
   "id": "3f690e49-3cd9-4921-b377-ea16a342e4b7",
   "metadata": {},
   "source": [
    "print(student1)"
   ]
  },
  {
   "cell_type": "raw",
   "id": "695d45be-c10f-4ac1-84b6-2b9964456b02",
   "metadata": {},
   "source": [
    "print(type(student1), type(df))"
   ]
  },
  {
   "cell_type": "raw",
   "id": "9cb56333-7400-4d5f-be8c-35836be97b69",
   "metadata": {},
   "source": [
    "print(df)"
   ]
  },
  {
   "cell_type": "raw",
   "id": "c9be47f3-6a7b-4684-9c0d-df427de53a8a",
   "metadata": {},
   "source": [
    "df.info()"
   ]
  },
  {
   "cell_type": "raw",
   "id": "865b66ea-cff2-4978-9c04-6a4576505143",
   "metadata": {},
   "source": [
    "df.columns"
   ]
  },
  {
   "cell_type": "raw",
   "id": "7c404eb7-bbb3-42a0-a6bb-1f1343933377",
   "metadata": {},
   "source": [
    "df.index"
   ]
  },
  {
   "cell_type": "raw",
   "id": "006f9a60-2b0b-4cea-99ad-089f564dbf9f",
   "metadata": {},
   "source": [
    "df.index = [\"I\",\"II\"] # Assignment labels to rows"
   ]
  },
  {
   "cell_type": "raw",
   "id": "8a3cd53f-4cec-4e8b-a9de-58c57884a852",
   "metadata": {},
   "source": [
    "print(df)"
   ]
  },
  {
   "cell_type": "markdown",
   "id": "361606fe",
   "metadata": {},
   "source": [
    "##### Accessing Columns and Rows of DataFrame."
   ]
  },
  {
   "cell_type": "raw",
   "id": "30f1db0f-b754-47c7-85e9-b5ef7a834844",
   "metadata": {},
   "source": [
    "#column Access is similar to dictionary access using a key.\n",
    "print(df[\"courses\"])"
   ]
  },
  {
   "cell_type": "raw",
   "id": "8c0fec40-e735-42e4-85d1-3309904a4336",
   "metadata": {},
   "source": [
    "print(df[\"grades\"])"
   ]
  },
  {
   "cell_type": "markdown",
   "id": "3189f39a",
   "metadata": {},
   "source": [
    "#### Pandas DataFrame has two different functions to access rows.\n",
    "- .loc is typically used for label indexing and can access multiple columns using column name, \n",
    "- .iloc is used for integer indexing both rows and columns."
   ]
  },
  {
   "cell_type": "raw",
   "id": "2d7a1b95-ad3d-4557-8664-ceeee2349a4d",
   "metadata": {},
   "source": [
    "# Row access\n",
    "print(df.loc[\"I\"])"
   ]
  },
  {
   "cell_type": "raw",
   "id": "8b0c5967-914e-4a09-9a8c-2d1586428ca8",
   "metadata": {},
   "source": [
    "print(df.loc[\"I\",\"courses\"])"
   ]
  },
  {
   "cell_type": "raw",
   "id": "4a7d1b28-83f4-43ee-a75b-18d250315804",
   "metadata": {},
   "source": [
    "print(df.iloc[0,1])"
   ]
  },
  {
   "cell_type": "raw",
   "id": "422e2a28-6378-4ef3-9b3d-e75ad221da29",
   "metadata": {},
   "source": [
    "print(df.iloc[0][\"courses\"])"
   ]
  },
  {
   "cell_type": "raw",
   "id": "deb56d8b-1b99-48f1-ad06-1a9fb20647b6",
   "metadata": {},
   "source": [
    "print(df.iloc[0])"
   ]
  },
  {
   "cell_type": "raw",
   "id": "13836aee-8905-4b7a-98bb-aa7f4487cdf0",
   "metadata": {},
   "source": [
    "df1 = pd.DataFrame({'courses': ['ISC 4551', 'CAP 4720'], 'grades': ['A', 'B+']})\n",
    "print(df1)"
   ]
  },
  {
   "cell_type": "raw",
   "id": "15359f4c-8467-442f-a1cc-8fc670eb8869",
   "metadata": {},
   "source": [
    "print(df1.loc[0])"
   ]
  },
  {
   "cell_type": "raw",
   "id": "f3587744-4fc7-4925-9c78-1f63b2170c71",
   "metadata": {},
   "source": [
    "print(df1.iloc[0])"
   ]
  },
  {
   "cell_type": "markdown",
   "id": "59dab877",
   "metadata": {},
   "source": [
    "### Reading tabular data\n",
    "In pandas, you can use the read_* functions to read various types of data formats into a DataFrame. Here are a few commonly used functions for reading data.\n",
    "- .read_csv()\n",
    "- .read_excel()\n",
    "- .read_json()\n",
    "- ..."
   ]
  },
  {
   "cell_type": "raw",
   "id": "444f0789-a214-4654-87b1-f0edf6b28332",
   "metadata": {},
   "source": [
    "df = pd.read_csv(\"data.csv\")\n",
    "print(df)"
   ]
  },
  {
   "cell_type": "raw",
   "id": "9dd6d675-b118-412d-96cf-2c2a961c6f1a",
   "metadata": {},
   "source": [
    "print(df.head(5))"
   ]
  },
  {
   "cell_type": "raw",
   "id": "2d46f06c-6f05-433c-b0cf-fa0509698367",
   "metadata": {},
   "source": [
    "df.info()"
   ]
  },
  {
   "cell_type": "raw",
   "id": "60f195e1-3a90-40ad-a944-4667d8e52ff0",
   "metadata": {},
   "source": [
    "df.describe()"
   ]
  },
  {
   "cell_type": "markdown",
   "id": "8160724f",
   "metadata": {},
   "source": [
    "### Flow Control\n",
    "- if-then-else\n",
    "- for loop\n",
    "- while loop"
   ]
  },
  {
   "cell_type": "markdown",
   "id": "37b48e8a",
   "metadata": {},
   "source": [
    "#### if-then-else statements: 3 forms\n",
    "- if statement\n",
    "- if...else statement\n",
    "- if...elif...else statement\n",
    "\n",
    "Statements can be code blocks.  \n",
    "Code blocks are created using indents.\n",
    "Indentation is done using spaces: say 2 or 4 spaces. But should be consistent throughout the file."
   ]
  },
  {
   "cell_type": "code",
   "execution_count": 140,
   "id": "06352992",
   "metadata": {},
   "outputs": [],
   "source": [
    "number = 0"
   ]
  },
  {
   "cell_type": "raw",
   "id": "e2aab2c7-7eb1-49b3-b8cd-a766a5cb2709",
   "metadata": {},
   "source": [
    "#\n",
    "# if statement\n",
    "#\n",
    "if number > 0:\n",
    "    print('Number is positive.')\n",
    "\n",
    "#\n",
    "# if...else statement\n",
    "#\n",
    "if number > 0:\n",
    "    print('Positive number')\n",
    "else:\n",
    "    print('Not a Positive number')\n",
    "\n",
    "#\n",
    "# if...elif...else statement\n",
    "#\n",
    "if number > 0:\n",
    "    print(\"Positive number\")\n",
    "elif number == 0:\n",
    "    print('Zero')\n",
    "else:\n",
    "    print('Negative number')"
   ]
  },
  {
   "cell_type": "markdown",
   "id": "c6e50969",
   "metadata": {},
   "source": [
    "### for loop is used to run a block of code for a certain number of times. \n",
    "It is used to iterate over any sequences such as range, list, tuple, string, etc.  \n",
    "Syntax:  \n",
    "for val in sequence:  \n",
    "    # statement(s)"
   ]
  },
  {
   "cell_type": "raw",
   "id": "01277111-f18f-44ec-8a09-46061bd4ac96",
   "metadata": {},
   "source": [
    "for i in range(5):\n",
    "    print (i*i)\n",
    "#The range() function returns a sequence of numbers, starting from 0 by default, and increments by 1 (by default), and stops before a specified number.\n",
    "#syntax: \n",
    "#  range(start, stop, step)"
   ]
  },
  {
   "cell_type": "raw",
   "id": "453515e3-a2f4-474b-86aa-88cbf1b23db2",
   "metadata": {},
   "source": [
    "aList = []\n",
    "for i in range(5):\n",
    "    aList.append(i*i)\n",
    "print(aList)"
   ]
  },
  {
   "cell_type": "markdown",
   "id": "09bbab65",
   "metadata": {},
   "source": [
    "#### Unpacking tuples"
   ]
  },
  {
   "cell_type": "raw",
   "id": "b4199118-9f42-45a0-a72b-a63027ec325b",
   "metadata": {},
   "source": [
    "aList = [(1,10), (2,20), (3,30)]\n",
    "for x, y in aList:\n",
    "    print(x,y)"
   ]
  },
  {
   "cell_type": "markdown",
   "id": "797bea9c-fa1f-42ed-8c4b-bbbd047b1d01",
   "metadata": {},
   "source": [
    "#### List Comprehension\n",
    "new_list = [expression for element in iterable]  \n",
    "new_list = [expression for element in iterable if condition]  \n"
   ]
  },
  {
   "cell_type": "raw",
   "id": "3cdcdf7b-c648-4d85-ad2e-7fd1db5eb6e6",
   "metadata": {},
   "source": [
    "[i*i for i in range(5)]"
   ]
  },
  {
   "cell_type": "raw",
   "id": "2377f5c5-f7cf-485f-898d-485a5e7ebe1f",
   "metadata": {},
   "source": [
    "[i*i for i in range(5) if i % 2 == 0]"
   ]
  },
  {
   "cell_type": "markdown",
   "id": "580e7210-909b-42bf-adbf-595ac09c8a9b",
   "metadata": {},
   "source": [
    "#### While loop\n",
    "while loop is used to run a block of code until a certain condition is met.  \n",
    "The syntax of while loop is  \n",
    "~~~\n",
    "while condition:   \n",
    "   body of while loop\n",
    "~~~"
   ]
  },
  {
   "cell_type": "raw",
   "id": "c7169458-3715-4adf-b1a7-21b59d44ab08",
   "metadata": {},
   "source": [
    "i = 0\n",
    "while i < 5:\n",
    "    print (i)\n",
    "    i += 1"
   ]
  },
  {
   "cell_type": "markdown",
   "id": "a517d4e4",
   "metadata": {},
   "source": [
    "### Functions:\n",
    "A function is a block of code which only runs when it is called.\n",
    "\n",
    "Function can be called with data, known as parameters (or arguments).\n",
    "A function can optionally return data as  result.\n",
    "\n",
    "Syntax:\n",
    "~~~\n",
    "def function_name(arguments):\n",
    "    # function body \n",
    "    return\n",
    "~~~"
   ]
  },
  {
   "cell_type": "raw",
   "id": "33c55652-af85-45df-b7d9-811720450b6d",
   "metadata": {},
   "source": [
    "def square(num):\n",
    "    return num * num\n",
    "print(square(5))"
   ]
  },
  {
   "cell_type": "raw",
   "id": "d79610b2-ef71-4cdf-9132-9750692c169f",
   "metadata": {},
   "source": [
    "for i in [1,2,3]:\n",
    "    print(f'Square of {i} = {square(i)}')"
   ]
  },
  {
   "cell_type": "markdown",
   "id": "335642ec",
   "metadata": {},
   "source": [
    "#### Lambda functions\n",
    "A lambda function is a small anonymous function.  \n",
    "A lambda function can take any number of arguments, but can only have one expression.  \n",
    "syntax:\n",
    "~~~\n",
    "lambda arguments : expression\n",
    "~~~"
   ]
  },
  {
   "cell_type": "raw",
   "id": "819ce810-fa9d-4133-9426-6d6547fe0034",
   "metadata": {},
   "source": [
    "x = lambda a : a + 10\n",
    "print(x(5))"
   ]
  },
  {
   "cell_type": "raw",
   "id": "f99f4829-77c9-4bde-81f3-1b063437af81",
   "metadata": {},
   "source": [
    "x = lambda a, b, c : a + b + c\n",
    "print(x(5, 6, 2))"
   ]
  }
 ],
 "metadata": {
  "kernelspec": {
   "display_name": "Python 3 (ipykernel)",
   "language": "python",
   "name": "python3"
  },
  "language_info": {
   "codemirror_mode": {
    "name": "ipython",
    "version": 3
   },
   "file_extension": ".py",
   "mimetype": "text/x-python",
   "name": "python",
   "nbconvert_exporter": "python",
   "pygments_lexer": "ipython3",
   "version": "3.10.10"
  }
 },
 "nbformat": 4,
 "nbformat_minor": 5
}
