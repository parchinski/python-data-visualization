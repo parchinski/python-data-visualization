{
 "cells": [
  {
   "cell_type": "markdown",
   "id": "a3398d2a-490e-44e6-a0d2-af25cbdeeab4",
   "metadata": {},
   "source": [
    "# Assignment 2: Bryant Parchinski"
   ]
  },
  {
   "cell_type": "markdown",
   "id": "3a62ec0c-519c-4331-899a-e3105787fa8e",
   "metadata": {},
   "source": [
    "## Imports"
   ]
  },
  {
   "cell_type": "code",
   "execution_count": 27,
   "id": "95115c55-31a6-474f-8355-e5ed817e5b4b",
   "metadata": {},
   "outputs": [
    {
     "name": "stdout",
     "output_type": "stream",
     "text": [
      "Imports setup! :)\n"
     ]
    }
   ],
   "source": [
    "import pandas as pd\n",
    "import numpy as np\n",
    "\n",
    "print(\"Imports setup! :)\")"
   ]
  },
  {
   "cell_type": "markdown",
   "id": "e07d0312-c8e1-495e-86ac-acdab2b26d7d",
   "metadata": {},
   "source": [
    "## Data setup"
   ]
  },
  {
   "cell_type": "code",
   "execution_count": 28,
   "id": "c5e1e8eb-9b0c-4ffe-883a-07ac2f5fcb44",
   "metadata": {},
   "outputs": [
    {
     "name": "stdout",
     "output_type": "stream",
     "text": [
      "DataFrame loaded! :)\n",
      "Shape of DataFrame: 28172 rows, 16 columns\n"
     ]
    }
   ],
   "source": [
    "data_fp = \"./2000_acs_sample.dta\"\n",
    "\n",
    "df = pd.read_stata(data_fp)\n",
    "\n",
    "print(\"DataFrame loaded! :)\")\n",
    "print(f\"Shape of DataFrame: {df.shape[0]} rows, {df.shape[1]} columns\")"
   ]
  },
  {
   "cell_type": "markdown",
   "id": "ebc24c61-c565-4bbd-b413-b13c350c3f7a",
   "metadata": {},
   "source": [
    "## First inspection of names and head rows"
   ]
  },
  {
   "cell_type": "code",
   "execution_count": 29,
   "id": "179f81d9-67e7-493f-9009-a91e13b10ff7",
   "metadata": {},
   "outputs": [
    {
     "name": "stdout",
     "output_type": "stream",
     "text": [
      "Initial column names:\n",
      "['year', 'datanum', 'serial', 'hhwt', 'gq', 'us2000c_serialno', 'pernum', 'perwt', 'us2000c_pnum', 'us2000c_sex', 'us2000c_age', 'us2000c_hispan', 'us2000c_race1', 'us2000c_marstat', 'us2000c_educ', 'us2000c_inctot']\n",
      "\n",
      "Head of Loaded Data:\n"
     ]
    },
    {
     "data": {
      "text/html": [
       "<div>\n",
       "<style scoped>\n",
       "    .dataframe tbody tr th:only-of-type {\n",
       "        vertical-align: middle;\n",
       "    }\n",
       "\n",
       "    .dataframe tbody tr th {\n",
       "        vertical-align: top;\n",
       "    }\n",
       "\n",
       "    .dataframe thead th {\n",
       "        text-align: right;\n",
       "    }\n",
       "</style>\n",
       "<table border=\"1\" class=\"dataframe\">\n",
       "  <thead>\n",
       "    <tr style=\"text-align: right;\">\n",
       "      <th></th>\n",
       "      <th>year</th>\n",
       "      <th>datanum</th>\n",
       "      <th>serial</th>\n",
       "      <th>hhwt</th>\n",
       "      <th>gq</th>\n",
       "      <th>us2000c_serialno</th>\n",
       "      <th>pernum</th>\n",
       "      <th>perwt</th>\n",
       "      <th>us2000c_pnum</th>\n",
       "      <th>us2000c_sex</th>\n",
       "      <th>us2000c_age</th>\n",
       "      <th>us2000c_hispan</th>\n",
       "      <th>us2000c_race1</th>\n",
       "      <th>us2000c_marstat</th>\n",
       "      <th>us2000c_educ</th>\n",
       "      <th>us2000c_inctot</th>\n",
       "    </tr>\n",
       "  </thead>\n",
       "  <tbody>\n",
       "    <tr>\n",
       "      <th>0</th>\n",
       "      <td>2000</td>\n",
       "      <td>4</td>\n",
       "      <td>37.0</td>\n",
       "      <td>100.0</td>\n",
       "      <td>Households under 1970 definition</td>\n",
       "      <td>0365663</td>\n",
       "      <td>1</td>\n",
       "      <td>100.0</td>\n",
       "      <td>01</td>\n",
       "      <td>2</td>\n",
       "      <td>20</td>\n",
       "      <td>01</td>\n",
       "      <td>1</td>\n",
       "      <td>5</td>\n",
       "      <td>11</td>\n",
       "      <td>0010000</td>\n",
       "    </tr>\n",
       "    <tr>\n",
       "      <th>1</th>\n",
       "      <td>2000</td>\n",
       "      <td>4</td>\n",
       "      <td>37.0</td>\n",
       "      <td>100.0</td>\n",
       "      <td>Households under 1970 definition</td>\n",
       "      <td>0365663</td>\n",
       "      <td>2</td>\n",
       "      <td>100.0</td>\n",
       "      <td>02</td>\n",
       "      <td>2</td>\n",
       "      <td>19</td>\n",
       "      <td>01</td>\n",
       "      <td>1</td>\n",
       "      <td>5</td>\n",
       "      <td>11</td>\n",
       "      <td>0005300</td>\n",
       "    </tr>\n",
       "    <tr>\n",
       "      <th>2</th>\n",
       "      <td>2000</td>\n",
       "      <td>4</td>\n",
       "      <td>37.0</td>\n",
       "      <td>100.0</td>\n",
       "      <td>Households under 1970 definition</td>\n",
       "      <td>0365663</td>\n",
       "      <td>3</td>\n",
       "      <td>100.0</td>\n",
       "      <td>03</td>\n",
       "      <td>2</td>\n",
       "      <td>19</td>\n",
       "      <td>01</td>\n",
       "      <td>2</td>\n",
       "      <td>5</td>\n",
       "      <td>11</td>\n",
       "      <td>0004700</td>\n",
       "    </tr>\n",
       "    <tr>\n",
       "      <th>3</th>\n",
       "      <td>2000</td>\n",
       "      <td>4</td>\n",
       "      <td>241.0</td>\n",
       "      <td>100.0</td>\n",
       "      <td>Households under 1970 definition</td>\n",
       "      <td>2894822</td>\n",
       "      <td>1</td>\n",
       "      <td>100.0</td>\n",
       "      <td>01</td>\n",
       "      <td>2</td>\n",
       "      <td>50</td>\n",
       "      <td>01</td>\n",
       "      <td>1</td>\n",
       "      <td>5</td>\n",
       "      <td>14</td>\n",
       "      <td>0032500</td>\n",
       "    </tr>\n",
       "    <tr>\n",
       "      <th>4</th>\n",
       "      <td>2000</td>\n",
       "      <td>4</td>\n",
       "      <td>242.0</td>\n",
       "      <td>100.0</td>\n",
       "      <td>Households under 1970 definition</td>\n",
       "      <td>2896802</td>\n",
       "      <td>1</td>\n",
       "      <td>100.0</td>\n",
       "      <td>01</td>\n",
       "      <td>2</td>\n",
       "      <td>29</td>\n",
       "      <td>01</td>\n",
       "      <td>1</td>\n",
       "      <td>5</td>\n",
       "      <td>13</td>\n",
       "      <td>0030000</td>\n",
       "    </tr>\n",
       "  </tbody>\n",
       "</table>\n",
       "</div>"
      ],
      "text/plain": [
       "   year  datanum  serial   hhwt                                gq us2000c_serialno  pernum  perwt us2000c_pnum us2000c_sex us2000c_age us2000c_hispan us2000c_race1 us2000c_marstat us2000c_educ us2000c_inctot\n",
       "0  2000        4    37.0  100.0  Households under 1970 definition          0365663       1  100.0           01           2          20             01             1               5           11        0010000\n",
       "1  2000        4    37.0  100.0  Households under 1970 definition          0365663       2  100.0           02           2          19             01             1               5           11        0005300\n",
       "2  2000        4    37.0  100.0  Households under 1970 definition          0365663       3  100.0           03           2          19             01             2               5           11        0004700\n",
       "3  2000        4   241.0  100.0  Households under 1970 definition          2894822       1  100.0           01           2          50             01             1               5           14        0032500\n",
       "4  2000        4   242.0  100.0  Households under 1970 definition          2896802       1  100.0           01           2          29             01             1               5           13        0030000"
      ]
     },
     "metadata": {},
     "output_type": "display_data"
    }
   ],
   "source": [
    "print(\"Initial column names:\")\n",
    "print(df.columns.tolist())\n",
    "\n",
    "print(\"\\nHead of Loaded Data:\")\n",
    "display(df.head())"
   ]
  },
  {
   "cell_type": "markdown",
   "id": "21981dce-3ba8-4ab8-a1b4-7ee6e2feb74c",
   "metadata": {},
   "source": [
    "### Identify and drop columns with all the same value"
   ]
  },
  {
   "cell_type": "code",
   "execution_count": 30,
   "id": "386a3366-e06c-442e-bd4a-69722f187274",
   "metadata": {},
   "outputs": [
    {
     "name": "stdout",
     "output_type": "stream",
     "text": [
      "Columns that have only one value: ['year', 'datanum', 'hhwt', 'perwt']\n",
      "Unwanted columns dropped successfully. Yipee! :)\n",
      "Remaining columns (10): ['serial', 'gq', 'pernum', 'us2000c_sex', 'us2000c_age', 'us2000c_hispan', 'us2000c_race1', 'us2000c_marstat', 'us2000c_educ', 'us2000c_inctot']\n"
     ]
    }
   ],
   "source": [
    "single_value_cols = []\n",
    "for col in df.columns:\n",
    "    unique_vals = df[col].unique()\n",
    "    if len(unique_vals) == 1:\n",
    "        single_value_cols.append(col)\n",
    "\n",
    "print(\"Columns that have only one value:\", single_value_cols)\n",
    "\n",
    "# drop the specialy requested cols\n",
    "columns_to_drop = single_value_cols + ['us2000c_pnum', 'us2000c_serialno']\n",
    "\n",
    "df.drop(columns=columns_to_drop, inplace=True, errors='ignore')\n",
    "\n",
    "print(\"Unwanted columns dropped successfully. Yipee! :)\")\n",
    "print(f\"Remaining columns ({len(df.columns)}): {df.columns.tolist()}\")"
   ]
  },
  {
   "cell_type": "markdown",
   "id": "3edd32cc-bbcd-4e07-a353-61d9fec61a08",
   "metadata": {},
   "source": [
    "### Rename columns to specified names"
   ]
  },
  {
   "cell_type": "code",
   "execution_count": 31,
   "id": "251debab-4ab8-4546-a0d7-8c1bc1d1a392",
   "metadata": {},
   "outputs": [
    {
     "name": "stdout",
     "output_type": "stream",
     "text": [
      "Columns after that smooth rename:\n",
      "['household', 'gq', 'person', 'sex', 'age', 'hispanic', 'race', 'marital_status', 'edu', 'income']\n"
     ]
    }
   ],
   "source": [
    "rename_map = {\n",
    "    \"serial\": \"household\",\n",
    "    \"pernum\": \"person\",\n",
    "    \"us2000c_sex\": \"sex\",\n",
    "    \"us2000c_age\": \"age\",\n",
    "    \"us2000c_hispan\": \"hispanic\",\n",
    "    \"us2000c_race1\": \"race\",\n",
    "    \"us2000c_marstat\": \"marital_status\",\n",
    "    \"us2000c_educ\": \"edu\",\n",
    "    \"us2000c_inctot\": \"income\"\n",
    "}\n",
    "\n",
    "df.rename(columns=rename_map, inplace=True)\n",
    "\n",
    "print(\"Columns after that smooth rename:\")\n",
    "print(df.columns.tolist())"
   ]
  },
  {
   "cell_type": "markdown",
   "id": "443454dc-b79b-4702-bc6f-57cb2907e085",
   "metadata": {},
   "source": [
    "### Checking DataFrame stucture after cleaning"
   ]
  },
  {
   "cell_type": "code",
   "execution_count": 32,
   "id": "9b242640-ff77-495e-a9b1-d9f49a487d78",
   "metadata": {},
   "outputs": [
    {
     "name": "stdout",
     "output_type": "stream",
     "text": [
      "<class 'pandas.core.frame.DataFrame'>\n",
      "RangeIndex: 28172 entries, 0 to 28171\n",
      "Data columns (total 10 columns):\n",
      " #   Column          Non-Null Count  Dtype   \n",
      "---  ------          --------------  -----   \n",
      " 0   household       28172 non-null  float64 \n",
      " 1   gq              28172 non-null  category\n",
      " 2   person          28172 non-null  int16   \n",
      " 3   sex             28172 non-null  object  \n",
      " 4   age             28172 non-null  object  \n",
      " 5   hispanic        28172 non-null  object  \n",
      " 6   race            28172 non-null  object  \n",
      " 7   marital_status  28172 non-null  object  \n",
      " 8   edu             28172 non-null  object  \n",
      " 9   income          28172 non-null  object  \n",
      "dtypes: category(1), float64(1), int16(1), object(7)\n",
      "memory usage: 1.8+ MB\n"
     ]
    }
   ],
   "source": [
    "df.info()"
   ]
  },
  {
   "cell_type": "markdown",
   "id": "3b66f42b-f705-4427-af2f-1b847d5abbb2",
   "metadata": {},
   "source": [
    "### Convert income to numeric following the instructions then check income type to ensure success"
   ]
  },
  {
   "cell_type": "code",
   "execution_count": 33,
   "id": "0ccf1e38-d22a-44d2-aac8-7b3fe8440e4e",
   "metadata": {},
   "outputs": [
    {
     "name": "stdout",
     "output_type": "stream",
     "text": [
      "<class 'pandas.core.frame.DataFrame'>\n",
      "RangeIndex: 28172 entries, 0 to 28171\n",
      "Data columns (total 10 columns):\n",
      " #   Column          Non-Null Count  Dtype   \n",
      "---  ------          --------------  -----   \n",
      " 0   household       28172 non-null  float64 \n",
      " 1   gq              28172 non-null  category\n",
      " 2   person          28172 non-null  int16   \n",
      " 3   sex             28172 non-null  object  \n",
      " 4   age             28172 non-null  object  \n",
      " 5   hispanic        28172 non-null  object  \n",
      " 6   race            28172 non-null  object  \n",
      " 7   marital_status  28172 non-null  object  \n",
      " 8   edu             28172 non-null  object  \n",
      " 9   income          22015 non-null  float64 \n",
      "dtypes: category(1), float64(2), int16(1), object(6)\n",
      "memory usage: 1.8+ MB\n"
     ]
    }
   ],
   "source": [
    "if 'income' in df.columns and df['income'].dtype == object:\n",
    "    df['income'] = pd.to_numeric(df['income'], errors='coerce')\n",
    "\n",
    "df.info()"
   ]
  },
  {
   "cell_type": "markdown",
   "id": "5bd3afc3-3bc3-4404-bbb6-50028749741d",
   "metadata": {},
   "source": [
    "### Replace numeric codes for 'sex' and 'marital_status'"
   ]
  },
  {
   "cell_type": "code",
   "execution_count": 34,
   "id": "0415b2dd-878f-42c5-81f0-ebef467819b2",
   "metadata": {},
   "outputs": [],
   "source": [
    "if 'sex' in df.columns and pd.api.types.is_float_dtype(df['sex']):\n",
    "    df['sex'] = df['sex'].astype('Int64')\n",
    "\n",
    "if 'marital_status' in df.columns and pd.api.types.is_float_dtype(df['marital_status']):\n",
    "    df['marital_status'] = df['marital_status'].astype('Int64')\n",
    "\n",
    "sex_map = {\n",
    "    1: \"Male\",\n",
    "    2: \"Female\",\n",
    "    9: \"Missing\"\n",
    "}\n",
    "\n",
    "marital_map = {\n",
    "    1: \"Married\",\n",
    "    2: \"Widowed\",\n",
    "    3: \"Divorced\",\n",
    "    4: \"Separated\",\n",
    "    5: \"Never Married\",\n",
    "    6: \"Missing/Unknown\",\n",
    "    9: \"Missing/Unknown\"\n",
    "}\n",
    "\n",
    "if 'sex' in df.columns:\n",
    "    df['sex'] = df['sex'].map(sex_map)\n",
    "\n",
    "if 'marital_status' in df.columns:\n",
    "    df['marital_status'] = df['marital_status'].map(marital_map)"
   ]
  },
  {
   "cell_type": "markdown",
   "id": "2a666962-c559-426d-b15b-d9e529d4b420",
   "metadata": {},
   "source": [
    "### Replace missing incomes with the mode Income"
   ]
  },
  {
   "cell_type": "code",
   "execution_count": 35,
   "id": "1ea19b33-3b07-4bc6-b9a8-b89bfc5c34b7",
   "metadata": {},
   "outputs": [
    {
     "name": "stderr",
     "output_type": "stream",
     "text": [
      "/tmp/ipykernel_1652/3575119999.py:4: FutureWarning: A value is trying to be set on a copy of a DataFrame or Series through chained assignment using an inplace method.\n",
      "The behavior will change in pandas 3.0. This inplace method will never work because the intermediate object on which we are setting values always behaves as a copy.\n",
      "\n",
      "For example, when doing 'df[col].method(value, inplace=True)', try using 'df.method({col: value}, inplace=True)' or df[col] = df[col].method(value) instead, to perform the operation inplace on the original object.\n",
      "\n",
      "\n",
      "  df['income'].fillna(mode_val[0], inplace=True)\n"
     ]
    }
   ],
   "source": [
    "if 'income' in df.columns:\n",
    "    mode_val = df['income'].mode(dropna=True)\n",
    "    if not mode_val.empty:\n",
    "        df['income'].fillna(mode_val[0], inplace=True)"
   ]
  },
  {
   "cell_type": "code",
   "execution_count": 36,
   "id": "89e77a05-fb55-4fa2-a476-0655b6bb3ed3",
   "metadata": {},
   "outputs": [
    {
     "name": "stdout",
     "output_type": "stream",
     "text": [
      "<class 'pandas.core.frame.DataFrame'>\n",
      "RangeIndex: 28172 entries, 0 to 28171\n",
      "Data columns (total 10 columns):\n",
      " #   Column          Non-Null Count  Dtype   \n",
      "---  ------          --------------  -----   \n",
      " 0   household       28172 non-null  float64 \n",
      " 1   gq              28172 non-null  category\n",
      " 2   person          28172 non-null  int16   \n",
      " 3   sex             0 non-null      object  \n",
      " 4   age             28172 non-null  object  \n",
      " 5   hispanic        28172 non-null  object  \n",
      " 6   race            28172 non-null  object  \n",
      " 7   marital_status  0 non-null      object  \n",
      " 8   edu             28172 non-null  object  \n",
      " 9   income          28172 non-null  float64 \n",
      "dtypes: category(1), float64(2), int16(1), object(6)\n",
      "memory usage: 1.8+ MB\n"
     ]
    },
    {
     "data": {
      "text/html": [
       "<div>\n",
       "<style scoped>\n",
       "    .dataframe tbody tr th:only-of-type {\n",
       "        vertical-align: middle;\n",
       "    }\n",
       "\n",
       "    .dataframe tbody tr th {\n",
       "        vertical-align: top;\n",
       "    }\n",
       "\n",
       "    .dataframe thead th {\n",
       "        text-align: right;\n",
       "    }\n",
       "</style>\n",
       "<table border=\"1\" class=\"dataframe\">\n",
       "  <thead>\n",
       "    <tr style=\"text-align: right;\">\n",
       "      <th></th>\n",
       "      <th>household</th>\n",
       "      <th>gq</th>\n",
       "      <th>person</th>\n",
       "      <th>sex</th>\n",
       "      <th>age</th>\n",
       "      <th>hispanic</th>\n",
       "      <th>race</th>\n",
       "      <th>marital_status</th>\n",
       "      <th>edu</th>\n",
       "      <th>income</th>\n",
       "    </tr>\n",
       "  </thead>\n",
       "  <tbody>\n",
       "    <tr>\n",
       "      <th>0</th>\n",
       "      <td>37.0</td>\n",
       "      <td>Households under 1970 definition</td>\n",
       "      <td>1</td>\n",
       "      <td>NaN</td>\n",
       "      <td>20</td>\n",
       "      <td>01</td>\n",
       "      <td>1</td>\n",
       "      <td>NaN</td>\n",
       "      <td>11</td>\n",
       "      <td>10000.0</td>\n",
       "    </tr>\n",
       "    <tr>\n",
       "      <th>1</th>\n",
       "      <td>37.0</td>\n",
       "      <td>Households under 1970 definition</td>\n",
       "      <td>2</td>\n",
       "      <td>NaN</td>\n",
       "      <td>19</td>\n",
       "      <td>01</td>\n",
       "      <td>1</td>\n",
       "      <td>NaN</td>\n",
       "      <td>11</td>\n",
       "      <td>5300.0</td>\n",
       "    </tr>\n",
       "    <tr>\n",
       "      <th>2</th>\n",
       "      <td>37.0</td>\n",
       "      <td>Households under 1970 definition</td>\n",
       "      <td>3</td>\n",
       "      <td>NaN</td>\n",
       "      <td>19</td>\n",
       "      <td>01</td>\n",
       "      <td>2</td>\n",
       "      <td>NaN</td>\n",
       "      <td>11</td>\n",
       "      <td>4700.0</td>\n",
       "    </tr>\n",
       "    <tr>\n",
       "      <th>3</th>\n",
       "      <td>241.0</td>\n",
       "      <td>Households under 1970 definition</td>\n",
       "      <td>1</td>\n",
       "      <td>NaN</td>\n",
       "      <td>50</td>\n",
       "      <td>01</td>\n",
       "      <td>1</td>\n",
       "      <td>NaN</td>\n",
       "      <td>14</td>\n",
       "      <td>32500.0</td>\n",
       "    </tr>\n",
       "    <tr>\n",
       "      <th>4</th>\n",
       "      <td>242.0</td>\n",
       "      <td>Households under 1970 definition</td>\n",
       "      <td>1</td>\n",
       "      <td>NaN</td>\n",
       "      <td>29</td>\n",
       "      <td>01</td>\n",
       "      <td>1</td>\n",
       "      <td>NaN</td>\n",
       "      <td>13</td>\n",
       "      <td>30000.0</td>\n",
       "    </tr>\n",
       "    <tr>\n",
       "      <th>5</th>\n",
       "      <td>296.0</td>\n",
       "      <td>Other group quarters</td>\n",
       "      <td>1</td>\n",
       "      <td>NaN</td>\n",
       "      <td>20</td>\n",
       "      <td>01</td>\n",
       "      <td>6</td>\n",
       "      <td>NaN</td>\n",
       "      <td>09</td>\n",
       "      <td>3000.0</td>\n",
       "    </tr>\n",
       "    <tr>\n",
       "      <th>6</th>\n",
       "      <td>377.0</td>\n",
       "      <td>Households under 1970 definition</td>\n",
       "      <td>1</td>\n",
       "      <td>NaN</td>\n",
       "      <td>69</td>\n",
       "      <td>01</td>\n",
       "      <td>1</td>\n",
       "      <td>NaN</td>\n",
       "      <td>01</td>\n",
       "      <td>51900.0</td>\n",
       "    </tr>\n",
       "    <tr>\n",
       "      <th>7</th>\n",
       "      <td>418.0</td>\n",
       "      <td>Households under 1970 definition</td>\n",
       "      <td>1</td>\n",
       "      <td>NaN</td>\n",
       "      <td>59</td>\n",
       "      <td>01</td>\n",
       "      <td>1</td>\n",
       "      <td>NaN</td>\n",
       "      <td>08</td>\n",
       "      <td>12200.0</td>\n",
       "    </tr>\n",
       "    <tr>\n",
       "      <th>8</th>\n",
       "      <td>465.0</td>\n",
       "      <td>Households under 1970 definition</td>\n",
       "      <td>1</td>\n",
       "      <td>NaN</td>\n",
       "      <td>55</td>\n",
       "      <td>01</td>\n",
       "      <td>2</td>\n",
       "      <td>NaN</td>\n",
       "      <td>12</td>\n",
       "      <td>0.0</td>\n",
       "    </tr>\n",
       "    <tr>\n",
       "      <th>9</th>\n",
       "      <td>465.0</td>\n",
       "      <td>Households under 1970 definition</td>\n",
       "      <td>2</td>\n",
       "      <td>NaN</td>\n",
       "      <td>47</td>\n",
       "      <td>01</td>\n",
       "      <td>2</td>\n",
       "      <td>NaN</td>\n",
       "      <td>01</td>\n",
       "      <td>2600.0</td>\n",
       "    </tr>\n",
       "  </tbody>\n",
       "</table>\n",
       "</div>"
      ],
      "text/plain": [
       "   household                                gq  person  sex age hispanic race marital_status edu   income\n",
       "0       37.0  Households under 1970 definition       1  NaN  20       01    1            NaN  11  10000.0\n",
       "1       37.0  Households under 1970 definition       2  NaN  19       01    1            NaN  11   5300.0\n",
       "2       37.0  Households under 1970 definition       3  NaN  19       01    2            NaN  11   4700.0\n",
       "3      241.0  Households under 1970 definition       1  NaN  50       01    1            NaN  14  32500.0\n",
       "4      242.0  Households under 1970 definition       1  NaN  29       01    1            NaN  13  30000.0\n",
       "5      296.0              Other group quarters       1  NaN  20       01    6            NaN  09   3000.0\n",
       "6      377.0  Households under 1970 definition       1  NaN  69       01    1            NaN  01  51900.0\n",
       "7      418.0  Households under 1970 definition       1  NaN  59       01    1            NaN  08  12200.0\n",
       "8      465.0  Households under 1970 definition       1  NaN  55       01    2            NaN  12      0.0\n",
       "9      465.0  Households under 1970 definition       2  NaN  47       01    2            NaN  01   2600.0"
      ]
     },
     "metadata": {},
     "output_type": "display_data"
    }
   ],
   "source": [
    "df.info()\n",
    "display(df.head(10))"
   ]
  }
 ],
 "metadata": {
  "kernelspec": {
   "display_name": "Python 3 (ipykernel)",
   "language": "python",
   "name": "python3"
  },
  "language_info": {
   "codemirror_mode": {
    "name": "ipython",
    "version": 3
   },
   "file_extension": ".py",
   "mimetype": "text/x-python",
   "name": "python",
   "nbconvert_exporter": "python",
   "pygments_lexer": "ipython3",
   "version": "3.12.8"
  }
 },
 "nbformat": 4,
 "nbformat_minor": 5
}
